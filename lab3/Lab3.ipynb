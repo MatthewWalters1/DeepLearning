{
 "cells": [
  {
   "cell_type": "code",
   "execution_count": 11,
   "id": "44c2654d",
   "metadata": {
    "scrolled": true
   },
   "outputs": [
    {
     "data": {
      "text/plain": [
       "Reusing TensorBoard on port 6006 (pid 2768), started 12:58:16 ago. (Use '!kill 2768' to kill it.)"
      ]
     },
     "metadata": {},
     "output_type": "display_data"
    },
    {
     "data": {
      "text/html": [
       "\n",
       "      <iframe id=\"tensorboard-frame-bce2c672eb05a8e\" width=\"100%\" height=\"800\" frameborder=\"0\">\n",
       "      </iframe>\n",
       "      <script>\n",
       "        (function() {\n",
       "          const frame = document.getElementById(\"tensorboard-frame-bce2c672eb05a8e\");\n",
       "          const url = new URL(\"http://localhost\");\n",
       "          const port = 6006;\n",
       "          if (port) {\n",
       "            url.port = port;\n",
       "          }\n",
       "          frame.src = url;\n",
       "        })();\n",
       "      </script>\n",
       "    "
      ],
      "text/plain": [
       "<IPython.core.display.HTML object>"
      ]
     },
     "metadata": {},
     "output_type": "display_data"
    }
   ],
   "source": [
    "%load_ext tensorboard\n",
    "%tensorboard --logdir logs"
   ]
  },
  {
   "cell_type": "code",
   "execution_count": 163,
   "id": "fd184861",
   "metadata": {},
   "outputs": [],
   "source": [
    "import datetime, os\n",
    "import numpy as np\n",
    "import tensorflow as tf\n",
    "from tensorflow import keras\n",
    "import matplotlib.pyplot as plt\n",
    "from tensorflow.keras.models import Sequential\n",
    "from tensorflow.keras import layers\n",
    "from tensorflow.keras import optimizers\n",
    "from tensorflow.keras import preprocessing\n",
    "from tensorflow.keras import backend as K\n",
    "from tensorflow.keras.losses import mse\n",
    "from tensorflow.keras.utils import plot_model\n",
    "\n",
    "import pandas as pd\n",
    "from PIL import Image\n",
    "from keras.utils import load_img\n",
    "from keras.utils import img_to_array\n",
    "# I don't think we need this function\n",
    "# from keras.utils import array_to_img"
   ]
  },
  {
   "cell_type": "code",
   "execution_count": 13,
   "id": "0e012c9e",
   "metadata": {},
   "outputs": [],
   "source": [
    "training_csv = pd.read_csv('fairface_label_train.csv')\n",
    "training_csv = training_csv.iloc[1:200]\n",
    "training_csv = training_csv.reset_index()\n",
    "training_images = []\n",
    "for index, row in training_csv.iterrows():\n",
    "    image = Image.open(row['file']).convert(\"L\") # load_img(row['file'], color_mode=\"grayscale\", target_size=(32,32))\n",
    "    data = np.asarray(image)\n",
    "    training_images.append(data)\n",
    "#     print(f\"Loaded image: {type(image)}\")\n",
    "#     print(f\"image #{index} file name: {row['file']}\")\n",
    "#     print(f\"image #{index} format: {image.format}\")\n",
    "#     print(f\"image #{index} size: {image.size}\")\n",
    "    image_array = np.asarray(image) # img_to_array(image) (using the keras methods gives float32 type instead of uint8, not sure which we need)\n",
    "#     print(f\"Numpy array: {type(image_array)}\")\n",
    "#     print(f\"image array #{index} type: {image_array.dtype}\")\n",
    "#     print(f\"image array #{index} shape: {image_array.shape}\")\n",
    "testing_csv = pd.read_csv('fairface_label_val.csv')\n",
    "testing_csv = testing_csv.iloc[1:50]\n",
    "testing_csv = testing_csv.reset_index()\n",
    "testing_images = []\n",
    "for index, row in testing_csv.iterrows():\n",
    "    image = Image.open(row['file']).convert(\"L\")\n",
    "    data = np.asarray(image)\n",
    "    testing_images.append(data)"
   ]
  },
  {
   "cell_type": "code",
   "execution_count": 14,
   "id": "5d89ab58",
   "metadata": {},
   "outputs": [],
   "source": [
    "# Min-Max Scale the training_images based on their min and max values (per image, not just scaled from 0 to 255)\n",
    "#                                                at least according to the google chat  ^^^\n",
    "temp = []\n",
    "for i in training_images:\n",
    "    mymaxes = []\n",
    "    mymins = []\n",
    "    for j in i:\n",
    "        mymaxes.append(max(j))\n",
    "        mymins.append(min(j))\n",
    "    mymax = max(mymaxes)\n",
    "    mymin = min(mymins)\n",
    "    tempcol = []\n",
    "    for j in i:\n",
    "        temprow = []\n",
    "        for k in j:\n",
    "            temprow.append((k - mymin) / (mymax - mymin))\n",
    "        tempcol.append(temprow)\n",
    "    temp.append(tempcol)\n",
    "training_images = temp\n",
    "training_images = np.array(training_images)\n",
    "# Scale the testing_images the same way\n",
    "temp = []\n",
    "for i in testing_images:\n",
    "    mymaxes = []\n",
    "    mymins = []\n",
    "    for j in i:\n",
    "        mymaxes.append(max(j))\n",
    "        mymins.append(min(j))\n",
    "    mymax = max(mymaxes)\n",
    "    mymin = min(mymins)\n",
    "    tempcol = []\n",
    "    for j in i:\n",
    "        temprow = []\n",
    "        for k in j:\n",
    "            temprow.append((k - mymin) / (mymax - mymin))\n",
    "        tempcol.append(temprow)\n",
    "    temp.append(tempcol)\n",
    "testing_images = temp\n",
    "testing_images = np.array(testing_images)"
   ]
  },
  {
   "cell_type": "code",
   "execution_count": 15,
   "id": "231de58f",
   "metadata": {},
   "outputs": [],
   "source": [
    "#also set up other vectors for training/validation\n",
    "#Gender\n",
    "genders = training_csv[\"gender\"]\n",
    "gens = []\n",
    "for i in range(len(genders)):\n",
    "    genset = np.zeros(2)\n",
    "    if \"Female\" in genders[i]:\n",
    "        genset[0] = 1\n",
    "    else:\n",
    "        genset[1] = 1\n",
    "    gens.append(genset)\n",
    "genders = gens.copy()\n",
    "\n",
    "gendersVal = testing_csv[\"gender\"]\n",
    "gens = []\n",
    "for i in range(len(gendersVal)):\n",
    "    genset = np.zeros(2)\n",
    "    if \"Female\" in gendersVal[i]:\n",
    "        genset[0] = 1\n",
    "    else:\n",
    "        genset[1] = 1\n",
    "    gens.append(genset)\n",
    "gendersVal = gens.copy()\n",
    "\n",
    "#Race\n",
    "racs = []\n",
    "races = training_csv[\"race\"]\n",
    "for i in races:\n",
    "    if i not in racs:\n",
    "        racs.append(i)\n",
    "tempRaces = []\n",
    "for i in range(len(races)):\n",
    "    racset = np.zeros(len(racs))\n",
    "    racset[racs.index(races[i])] = 1\n",
    "    tempRaces.append(racset)\n",
    "races = tempRaces.copy()\n",
    "\n",
    "racesVal = testing_csv[\"race\"]\n",
    "tempRaces = []\n",
    "for i in range(len(racesVal)):\n",
    "    racset = np.zeros(len(racs))\n",
    "    racset[racs.index(racesVal[i])] = 1\n",
    "    tempRaces.append(racset)\n",
    "racesVal = tempRaces.copy()\n",
    "numRaces = len(racs)\n",
    "\n",
    "genders = np.array(genders)\n",
    "gendersVal = np.array(gendersVal)\n",
    "races = np.array(races)\n",
    "racesVal = np.array(racesVal)"
   ]
  },
  {
   "cell_type": "markdown",
   "id": "5f3a8ae3",
   "metadata": {},
   "source": [
    "## Task 1: Fully Connected Neural Network\n",
    "##### 1. Build a feed forward neural network with the following specs (for 2 separate tasks)\n",
    "###### a. Hidden layer 1: 1024 neurons with tanh activation function in each \n",
    "###### b. Hidden layer 2: 512 neurons with sigmoid activation function in each \n",
    "###### c. Hidden layer 3: 100 neurons with reLu\n",
    "###### d. Output layer: n (depending on the task) representing n classes, using softmax activation"
   ]
  },
  {
   "cell_type": "code",
   "execution_count": 16,
   "id": "9faf57b1",
   "metadata": {},
   "outputs": [],
   "source": [
    "# fmodel = Sequential()\n",
    "# fmodel.add(keras.Input(shape=(32,32,1)))\n",
    "# fmodel.add(layers.Dense(1024, activation='tanh'))\n",
    "# fmodel.add(layers.Dense(512, activation='sigmoid'))\n",
    "# fmodel.add(layers.Dense(100, activation='relu'))\n",
    "# # find n for the task, add this layer\n",
    "# fmodel.add(layers.Dense(n, activation='softmax'))"
   ]
  },
  {
   "cell_type": "markdown",
   "id": "c23759b2",
   "metadata": {},
   "source": [
    "### Task 1, Classification Task A: Gender"
   ]
  },
  {
   "cell_type": "code",
   "execution_count": 17,
   "id": "151cbc6d",
   "metadata": {},
   "outputs": [
    {
     "name": "stdout",
     "output_type": "stream",
     "text": [
      "Epoch 1/50\n",
      "20/20 [==============================] - 1s 21ms/step - loss: 0.7063 - accuracy: 0.5226 - val_loss: 0.6956 - val_accuracy: 0.5306\n",
      "Epoch 2/50\n",
      "20/20 [==============================] - 0s 21ms/step - loss: 0.6948 - accuracy: 0.5327 - val_loss: 0.6926 - val_accuracy: 0.5306\n",
      "Epoch 3/50\n",
      "20/20 [==============================] - 0s 17ms/step - loss: 0.7198 - accuracy: 0.4824 - val_loss: 0.6946 - val_accuracy: 0.5306\n",
      "Epoch 4/50\n",
      "20/20 [==============================] - 0s 17ms/step - loss: 0.6973 - accuracy: 0.5025 - val_loss: 0.7237 - val_accuracy: 0.4898\n",
      "Epoch 5/50\n",
      "20/20 [==============================] - 0s 20ms/step - loss: 0.6985 - accuracy: 0.5377 - val_loss: 0.7216 - val_accuracy: 0.4898\n",
      "Epoch 6/50\n",
      "20/20 [==============================] - 0s 17ms/step - loss: 0.6914 - accuracy: 0.5176 - val_loss: 0.6895 - val_accuracy: 0.5714\n",
      "Epoch 7/50\n",
      "20/20 [==============================] - 0s 16ms/step - loss: 0.6871 - accuracy: 0.5628 - val_loss: 0.6845 - val_accuracy: 0.5510\n",
      "Epoch 8/50\n",
      "20/20 [==============================] - 0s 16ms/step - loss: 0.6835 - accuracy: 0.5528 - val_loss: 0.6849 - val_accuracy: 0.5510\n",
      "Epoch 9/50\n",
      "20/20 [==============================] - 0s 18ms/step - loss: 0.6710 - accuracy: 0.5879 - val_loss: 0.6849 - val_accuracy: 0.5714\n",
      "Epoch 10/50\n",
      "20/20 [==============================] - 0s 24ms/step - loss: 0.6794 - accuracy: 0.5779 - val_loss: 0.6980 - val_accuracy: 0.4898\n",
      "Epoch 11/50\n",
      "20/20 [==============================] - 0s 23ms/step - loss: 0.6700 - accuracy: 0.5980 - val_loss: 0.6890 - val_accuracy: 0.5714\n",
      "Epoch 12/50\n",
      "20/20 [==============================] - 0s 19ms/step - loss: 0.6681 - accuracy: 0.6181 - val_loss: 0.6922 - val_accuracy: 0.5714\n",
      "Epoch 13/50\n",
      "20/20 [==============================] - 0s 19ms/step - loss: 0.6625 - accuracy: 0.5779 - val_loss: 0.7276 - val_accuracy: 0.4694\n",
      "Epoch 14/50\n",
      "20/20 [==============================] - 0s 17ms/step - loss: 0.6806 - accuracy: 0.5678 - val_loss: 0.6884 - val_accuracy: 0.5510\n",
      "Epoch 15/50\n",
      "20/20 [==============================] - 0s 16ms/step - loss: 0.6803 - accuracy: 0.5879 - val_loss: 0.6881 - val_accuracy: 0.5510\n",
      "Epoch 16/50\n",
      "20/20 [==============================] - 0s 17ms/step - loss: 0.6455 - accuracy: 0.6030 - val_loss: 0.6909 - val_accuracy: 0.5510\n",
      "Epoch 17/50\n",
      "20/20 [==============================] - 0s 19ms/step - loss: 0.6526 - accuracy: 0.6583 - val_loss: 0.6975 - val_accuracy: 0.5714\n",
      "Epoch 18/50\n",
      "20/20 [==============================] - 0s 19ms/step - loss: 0.6429 - accuracy: 0.6131 - val_loss: 0.6984 - val_accuracy: 0.5918\n",
      "Epoch 19/50\n",
      "20/20 [==============================] - 0s 17ms/step - loss: 0.6630 - accuracy: 0.5829 - val_loss: 0.6884 - val_accuracy: 0.5918\n",
      "Epoch 20/50\n",
      "20/20 [==============================] - 0s 17ms/step - loss: 0.6632 - accuracy: 0.6030 - val_loss: 0.6970 - val_accuracy: 0.5714\n",
      "Epoch 21/50\n",
      "20/20 [==============================] - 0s 18ms/step - loss: 0.6497 - accuracy: 0.6281 - val_loss: 0.6963 - val_accuracy: 0.5510\n",
      "Epoch 22/50\n",
      "20/20 [==============================] - 0s 16ms/step - loss: 0.6264 - accuracy: 0.6482 - val_loss: 0.7175 - val_accuracy: 0.5102\n",
      "Epoch 23/50\n",
      "20/20 [==============================] - 0s 17ms/step - loss: 0.6461 - accuracy: 0.6432 - val_loss: 0.7214 - val_accuracy: 0.6122\n",
      "Epoch 24/50\n",
      "20/20 [==============================] - 0s 17ms/step - loss: 0.6367 - accuracy: 0.6482 - val_loss: 0.6961 - val_accuracy: 0.5510\n",
      "Epoch 25/50\n",
      "20/20 [==============================] - 0s 16ms/step - loss: 0.6495 - accuracy: 0.5980 - val_loss: 0.7163 - val_accuracy: 0.5306\n",
      "Epoch 26/50\n",
      "20/20 [==============================] - 0s 19ms/step - loss: 0.6508 - accuracy: 0.6332 - val_loss: 0.7566 - val_accuracy: 0.4490\n",
      "Epoch 27/50\n",
      "20/20 [==============================] - 0s 17ms/step - loss: 0.6328 - accuracy: 0.6432 - val_loss: 0.7475 - val_accuracy: 0.4898\n",
      "Epoch 28/50\n",
      "20/20 [==============================] - 0s 17ms/step - loss: 0.6321 - accuracy: 0.6181 - val_loss: 0.7043 - val_accuracy: 0.5510\n",
      "Epoch 29/50\n",
      "20/20 [==============================] - 0s 17ms/step - loss: 0.6132 - accuracy: 0.6583 - val_loss: 0.7075 - val_accuracy: 0.5714\n",
      "Epoch 30/50\n",
      "20/20 [==============================] - 0s 17ms/step - loss: 0.6155 - accuracy: 0.6633 - val_loss: 0.7633 - val_accuracy: 0.5918\n",
      "Epoch 31/50\n",
      "20/20 [==============================] - 0s 16ms/step - loss: 0.6270 - accuracy: 0.6382 - val_loss: 0.7387 - val_accuracy: 0.5102\n",
      "Epoch 32/50\n",
      "20/20 [==============================] - 0s 16ms/step - loss: 0.6228 - accuracy: 0.6432 - val_loss: 0.7089 - val_accuracy: 0.5714\n",
      "Epoch 33/50\n",
      "20/20 [==============================] - 0s 17ms/step - loss: 0.6276 - accuracy: 0.6533 - val_loss: 0.7036 - val_accuracy: 0.5510\n",
      "Epoch 34/50\n",
      "20/20 [==============================] - 0s 16ms/step - loss: 0.6131 - accuracy: 0.6784 - val_loss: 0.7081 - val_accuracy: 0.5510\n",
      "Epoch 35/50\n",
      "20/20 [==============================] - 0s 18ms/step - loss: 0.6252 - accuracy: 0.6884 - val_loss: 0.7220 - val_accuracy: 0.5510\n",
      "Epoch 36/50\n",
      "20/20 [==============================] - 0s 17ms/step - loss: 0.6152 - accuracy: 0.6784 - val_loss: 0.7180 - val_accuracy: 0.5510\n",
      "Epoch 37/50\n",
      "20/20 [==============================] - 0s 17ms/step - loss: 0.6088 - accuracy: 0.6784 - val_loss: 0.7169 - val_accuracy: 0.5510\n",
      "Epoch 38/50\n",
      "20/20 [==============================] - 0s 18ms/step - loss: 0.6182 - accuracy: 0.6683 - val_loss: 0.7116 - val_accuracy: 0.5918\n",
      "Epoch 39/50\n",
      "20/20 [==============================] - 0s 21ms/step - loss: 0.6067 - accuracy: 0.6884 - val_loss: 0.7117 - val_accuracy: 0.5510\n",
      "Epoch 40/50\n",
      "20/20 [==============================] - 0s 18ms/step - loss: 0.6110 - accuracy: 0.6734 - val_loss: 0.7201 - val_accuracy: 0.5714\n",
      "Epoch 41/50\n",
      "20/20 [==============================] - 0s 18ms/step - loss: 0.6119 - accuracy: 0.6985 - val_loss: 0.7501 - val_accuracy: 0.5714\n",
      "Epoch 42/50\n",
      "20/20 [==============================] - 0s 20ms/step - loss: 0.6051 - accuracy: 0.6884 - val_loss: 0.7404 - val_accuracy: 0.5510\n",
      "Epoch 43/50\n",
      "20/20 [==============================] - 0s 17ms/step - loss: 0.6073 - accuracy: 0.6734 - val_loss: 0.7533 - val_accuracy: 0.5714\n",
      "Epoch 44/50\n",
      "20/20 [==============================] - 0s 19ms/step - loss: 0.5969 - accuracy: 0.6734 - val_loss: 0.7154 - val_accuracy: 0.5714\n",
      "Epoch 45/50\n",
      "20/20 [==============================] - 0s 19ms/step - loss: 0.6144 - accuracy: 0.6633 - val_loss: 0.7204 - val_accuracy: 0.5306\n",
      "Epoch 46/50\n",
      "20/20 [==============================] - 0s 19ms/step - loss: 0.5885 - accuracy: 0.6734 - val_loss: 0.7267 - val_accuracy: 0.5714\n",
      "Epoch 47/50\n",
      "20/20 [==============================] - 0s 19ms/step - loss: 0.6088 - accuracy: 0.6734 - val_loss: 0.7737 - val_accuracy: 0.5510\n",
      "Epoch 48/50\n",
      "20/20 [==============================] - 0s 24ms/step - loss: 0.5908 - accuracy: 0.7085 - val_loss: 0.7231 - val_accuracy: 0.5306\n",
      "Epoch 49/50\n",
      "20/20 [==============================] - 0s 24ms/step - loss: 0.6108 - accuracy: 0.7136 - val_loss: 0.7656 - val_accuracy: 0.5510\n",
      "Epoch 50/50\n",
      "20/20 [==============================] - 0s 23ms/step - loss: 0.5995 - accuracy: 0.7035 - val_loss: 0.7308 - val_accuracy: 0.5918\n"
     ]
    },
    {
     "data": {
      "text/plain": [
       "<keras.callbacks.History at 0x20dbe8dcc90>"
      ]
     },
     "execution_count": 17,
     "metadata": {},
     "output_type": "execute_result"
    }
   ],
   "source": [
    "# classify gender\n",
    "famodel = Sequential()\n",
    "famodel.add(keras.Input(shape=(32,32,1)))\n",
    "famodel.add(layers.Flatten())\n",
    "famodel.add(layers.Dense(1024, activation='tanh'))\n",
    "famodel.add(layers.Dense(512, activation='sigmoid'))\n",
    "famodel.add(layers.Dense(100, activation='relu'))\n",
    "n = 2\n",
    "famodel.add(layers.Dense(n, activation='softmax'))\n",
    "# min max already taken care of, use mini-batch gradient descent to optimize categorical cross entropy, \n",
    "# record and graph each epoch's epoch-accuracy and epoch-loss for both the training and validation set\n",
    "# also graph the confusion matrix\n",
    "opt = keras.optimizers.SGD(learning_rate=0.01)\n",
    "famodel.compile(\n",
    "    optimizer=opt,\n",
    "    loss='categorical_crossentropy',\n",
    "    metrics=['accuracy']\n",
    ")\n",
    "\n",
    "logdir = os.path.join(\"logs\", datetime.datetime.now().strftime(\"%Y%m%d-%H%M%S_Task1Genders\"))\n",
    "tensorboard_callback = keras.callbacks.TensorBoard(logdir, histogram_freq=1)\n",
    "\n",
    "famodel.fit(training_images, genders, epochs=50, batch_size=10, validation_data=(testing_images, gendersVal), callbacks=[tensorboard_callback])"
   ]
  },
  {
   "cell_type": "markdown",
   "id": "f0f0f23a",
   "metadata": {},
   "source": [
    "### Task 1, Classification Task B: Race"
   ]
  },
  {
   "cell_type": "code",
   "execution_count": 18,
   "id": "7c3057d0",
   "metadata": {},
   "outputs": [
    {
     "name": "stdout",
     "output_type": "stream",
     "text": [
      "Epoch 1/100\n",
      "20/20 [==============================] - 1s 28ms/step - loss: 1.9509 - accuracy: 0.2010 - val_loss: 1.9813 - val_accuracy: 0.2041\n",
      "Epoch 2/100\n",
      "20/20 [==============================] - 0s 20ms/step - loss: 1.9437 - accuracy: 0.1960 - val_loss: 1.9313 - val_accuracy: 0.2041\n",
      "Epoch 3/100\n",
      "20/20 [==============================] - 0s 25ms/step - loss: 1.9265 - accuracy: 0.2211 - val_loss: 1.9202 - val_accuracy: 0.2041\n",
      "Epoch 4/100\n",
      "20/20 [==============================] - 0s 22ms/step - loss: 1.9226 - accuracy: 0.2060 - val_loss: 1.8997 - val_accuracy: 0.1633\n",
      "Epoch 5/100\n",
      "20/20 [==============================] - 0s 21ms/step - loss: 1.9078 - accuracy: 0.2111 - val_loss: 1.9182 - val_accuracy: 0.1837\n",
      "Epoch 6/100\n",
      "20/20 [==============================] - 0s 22ms/step - loss: 1.8903 - accuracy: 0.2312 - val_loss: 1.8716 - val_accuracy: 0.3061\n",
      "Epoch 7/100\n",
      "20/20 [==============================] - 0s 24ms/step - loss: 1.8957 - accuracy: 0.2010 - val_loss: 1.8869 - val_accuracy: 0.2653\n",
      "Epoch 8/100\n",
      "20/20 [==============================] - 0s 19ms/step - loss: 1.8858 - accuracy: 0.2663 - val_loss: 1.8730 - val_accuracy: 0.2041\n",
      "Epoch 9/100\n",
      "20/20 [==============================] - 0s 23ms/step - loss: 1.8772 - accuracy: 0.2563 - val_loss: 1.8566 - val_accuracy: 0.2857\n",
      "Epoch 10/100\n",
      "20/20 [==============================] - 0s 23ms/step - loss: 1.8880 - accuracy: 0.2362 - val_loss: 1.8666 - val_accuracy: 0.2857\n",
      "Epoch 11/100\n",
      "20/20 [==============================] - 0s 18ms/step - loss: 1.8878 - accuracy: 0.2211 - val_loss: 1.8837 - val_accuracy: 0.2449\n",
      "Epoch 12/100\n",
      "20/20 [==============================] - 0s 17ms/step - loss: 1.8695 - accuracy: 0.2513 - val_loss: 1.9041 - val_accuracy: 0.1837\n",
      "Epoch 13/100\n",
      "20/20 [==============================] - 0s 20ms/step - loss: 1.8509 - accuracy: 0.2663 - val_loss: 1.9332 - val_accuracy: 0.1837\n",
      "Epoch 14/100\n",
      "20/20 [==============================] - 0s 18ms/step - loss: 1.8365 - accuracy: 0.2513 - val_loss: 1.9151 - val_accuracy: 0.1837\n",
      "Epoch 15/100\n",
      "20/20 [==============================] - 0s 20ms/step - loss: 1.8482 - accuracy: 0.2613 - val_loss: 1.9055 - val_accuracy: 0.1837\n",
      "Epoch 16/100\n",
      "20/20 [==============================] - 1s 26ms/step - loss: 1.8235 - accuracy: 0.2864 - val_loss: 1.8913 - val_accuracy: 0.2041\n",
      "Epoch 17/100\n",
      "20/20 [==============================] - 0s 21ms/step - loss: 1.8438 - accuracy: 0.2663 - val_loss: 1.9265 - val_accuracy: 0.1633\n",
      "Epoch 18/100\n",
      "16/20 [=======================>......] - ETA: 0s - loss: 1.7956 - accuracy: 0.2937"
     ]
    },
    {
     "ename": "KeyboardInterrupt",
     "evalue": "",
     "output_type": "error",
     "traceback": [
      "\u001b[1;31m---------------------------------------------------------------------------\u001b[0m",
      "\u001b[1;31mKeyboardInterrupt\u001b[0m                         Traceback (most recent call last)",
      "Cell \u001b[1;32mIn[18], line 24\u001b[0m\n\u001b[0;32m     21\u001b[0m logdir \u001b[39m=\u001b[39m os\u001b[39m.\u001b[39mpath\u001b[39m.\u001b[39mjoin(\u001b[39m\"\u001b[39m\u001b[39mlogs\u001b[39m\u001b[39m\"\u001b[39m, datetime\u001b[39m.\u001b[39mdatetime\u001b[39m.\u001b[39mnow()\u001b[39m.\u001b[39mstrftime(\u001b[39m\"\u001b[39m\u001b[39m%\u001b[39m\u001b[39mY\u001b[39m\u001b[39m%\u001b[39m\u001b[39mm\u001b[39m\u001b[39m%d\u001b[39;00m\u001b[39m-\u001b[39m\u001b[39m%\u001b[39m\u001b[39mH\u001b[39m\u001b[39m%\u001b[39m\u001b[39mM\u001b[39m\u001b[39m%\u001b[39m\u001b[39mS_Task1Races\u001b[39m\u001b[39m\"\u001b[39m))\n\u001b[0;32m     22\u001b[0m tensorboard_callback \u001b[39m=\u001b[39m keras\u001b[39m.\u001b[39mcallbacks\u001b[39m.\u001b[39mTensorBoard(logdir, histogram_freq\u001b[39m=\u001b[39m\u001b[39m1\u001b[39m)\n\u001b[1;32m---> 24\u001b[0m fbmodel\u001b[39m.\u001b[39;49mfit(training_images, races, epochs\u001b[39m=\u001b[39;49m\u001b[39m100\u001b[39;49m, batch_size\u001b[39m=\u001b[39;49m\u001b[39m10\u001b[39;49m, validation_data\u001b[39m=\u001b[39;49m(testing_images, racesVal), callbacks\u001b[39m=\u001b[39;49m[tensorboard_callback])\n\u001b[0;32m     25\u001b[0m \u001b[39m# if you have the setup and training in different blocks in the notebook, \u001b[39;00m\n\u001b[0;32m     26\u001b[0m \u001b[39m# you can accidentally train it multiple times, compounding how well it gets trained, \u001b[39;00m\n\u001b[0;32m     27\u001b[0m \u001b[39m# so keep the training in the same block as the setup\u001b[39;00m\n",
      "File \u001b[1;32mc:\\Users\\skoprowi\\AppData\\Local\\Programs\\Python\\Python311\\Lib\\site-packages\\keras\\utils\\traceback_utils.py:65\u001b[0m, in \u001b[0;36mfilter_traceback.<locals>.error_handler\u001b[1;34m(*args, **kwargs)\u001b[0m\n\u001b[0;32m     63\u001b[0m filtered_tb \u001b[39m=\u001b[39m \u001b[39mNone\u001b[39;00m\n\u001b[0;32m     64\u001b[0m \u001b[39mtry\u001b[39;00m:\n\u001b[1;32m---> 65\u001b[0m     \u001b[39mreturn\u001b[39;00m fn(\u001b[39m*\u001b[39;49margs, \u001b[39m*\u001b[39;49m\u001b[39m*\u001b[39;49mkwargs)\n\u001b[0;32m     66\u001b[0m \u001b[39mexcept\u001b[39;00m \u001b[39mException\u001b[39;00m \u001b[39mas\u001b[39;00m e:\n\u001b[0;32m     67\u001b[0m     filtered_tb \u001b[39m=\u001b[39m _process_traceback_frames(e\u001b[39m.\u001b[39m__traceback__)\n",
      "File \u001b[1;32mc:\\Users\\skoprowi\\AppData\\Local\\Programs\\Python\\Python311\\Lib\\site-packages\\keras\\engine\\training.py:1747\u001b[0m, in \u001b[0;36mModel.fit\u001b[1;34m(self, x, y, batch_size, epochs, verbose, callbacks, validation_split, validation_data, shuffle, class_weight, sample_weight, initial_epoch, steps_per_epoch, validation_steps, validation_batch_size, validation_freq, max_queue_size, workers, use_multiprocessing)\u001b[0m\n\u001b[0;32m   1742\u001b[0m     val_logs \u001b[39m=\u001b[39m {\n\u001b[0;32m   1743\u001b[0m         \u001b[39m\"\u001b[39m\u001b[39mval_\u001b[39m\u001b[39m\"\u001b[39m \u001b[39m+\u001b[39m name: val \u001b[39mfor\u001b[39;00m name, val \u001b[39min\u001b[39;00m val_logs\u001b[39m.\u001b[39mitems()\n\u001b[0;32m   1744\u001b[0m     }\n\u001b[0;32m   1745\u001b[0m     epoch_logs\u001b[39m.\u001b[39mupdate(val_logs)\n\u001b[1;32m-> 1747\u001b[0m callbacks\u001b[39m.\u001b[39;49mon_epoch_end(epoch, epoch_logs)\n\u001b[0;32m   1748\u001b[0m training_logs \u001b[39m=\u001b[39m epoch_logs\n\u001b[0;32m   1749\u001b[0m \u001b[39mif\u001b[39;00m \u001b[39mself\u001b[39m\u001b[39m.\u001b[39mstop_training:\n",
      "File \u001b[1;32mc:\\Users\\skoprowi\\AppData\\Local\\Programs\\Python\\Python311\\Lib\\site-packages\\keras\\callbacks.py:453\u001b[0m, in \u001b[0;36mCallbackList.on_epoch_end\u001b[1;34m(self, epoch, logs)\u001b[0m\n\u001b[0;32m    451\u001b[0m logs \u001b[39m=\u001b[39m \u001b[39mself\u001b[39m\u001b[39m.\u001b[39m_process_logs(logs)\n\u001b[0;32m    452\u001b[0m \u001b[39mfor\u001b[39;00m callback \u001b[39min\u001b[39;00m \u001b[39mself\u001b[39m\u001b[39m.\u001b[39mcallbacks:\n\u001b[1;32m--> 453\u001b[0m     callback\u001b[39m.\u001b[39;49mon_epoch_end(epoch, logs)\n",
      "File \u001b[1;32mc:\\Users\\skoprowi\\AppData\\Local\\Programs\\Python\\Python311\\Lib\\site-packages\\keras\\callbacks.py:2821\u001b[0m, in \u001b[0;36mTensorBoard.on_epoch_end\u001b[1;34m(self, epoch, logs)\u001b[0m\n\u001b[0;32m   2818\u001b[0m \u001b[39mself\u001b[39m\u001b[39m.\u001b[39m_log_epoch_metrics(epoch, logs)\n\u001b[0;32m   2820\u001b[0m \u001b[39mif\u001b[39;00m \u001b[39mself\u001b[39m\u001b[39m.\u001b[39mhistogram_freq \u001b[39mand\u001b[39;00m epoch \u001b[39m%\u001b[39m \u001b[39mself\u001b[39m\u001b[39m.\u001b[39mhistogram_freq \u001b[39m==\u001b[39m \u001b[39m0\u001b[39m:\n\u001b[1;32m-> 2821\u001b[0m     \u001b[39mself\u001b[39;49m\u001b[39m.\u001b[39;49m_log_weights(epoch)\n\u001b[0;32m   2823\u001b[0m \u001b[39mif\u001b[39;00m \u001b[39mself\u001b[39m\u001b[39m.\u001b[39membeddings_freq \u001b[39mand\u001b[39;00m epoch \u001b[39m%\u001b[39m \u001b[39mself\u001b[39m\u001b[39m.\u001b[39membeddings_freq \u001b[39m==\u001b[39m \u001b[39m0\u001b[39m:\n\u001b[0;32m   2824\u001b[0m     \u001b[39mself\u001b[39m\u001b[39m.\u001b[39m_log_embeddings(epoch)\n",
      "File \u001b[1;32mc:\\Users\\skoprowi\\AppData\\Local\\Programs\\Python\\Python311\\Lib\\site-packages\\keras\\callbacks.py:2895\u001b[0m, in \u001b[0;36mTensorBoard._log_weights\u001b[1;34m(self, epoch)\u001b[0m\n\u001b[0;32m   2893\u001b[0m \u001b[39m# Add a suffix to prevent summary tag name collision.\u001b[39;00m\n\u001b[0;32m   2894\u001b[0m histogram_weight_name \u001b[39m=\u001b[39m weight_name \u001b[39m+\u001b[39m \u001b[39m\"\u001b[39m\u001b[39m/histogram\u001b[39m\u001b[39m\"\u001b[39m\n\u001b[1;32m-> 2895\u001b[0m tf\u001b[39m.\u001b[39;49msummary\u001b[39m.\u001b[39;49mhistogram(\n\u001b[0;32m   2896\u001b[0m     histogram_weight_name, weight, step\u001b[39m=\u001b[39;49mepoch\n\u001b[0;32m   2897\u001b[0m )\n\u001b[0;32m   2898\u001b[0m \u001b[39mif\u001b[39;00m \u001b[39mself\u001b[39m\u001b[39m.\u001b[39mwrite_images:\n\u001b[0;32m   2899\u001b[0m     \u001b[39m# Add a suffix to prevent summary tag name\u001b[39;00m\n\u001b[0;32m   2900\u001b[0m     \u001b[39m# collision.\u001b[39;00m\n\u001b[0;32m   2901\u001b[0m     image_weight_name \u001b[39m=\u001b[39m weight_name \u001b[39m+\u001b[39m \u001b[39m\"\u001b[39m\u001b[39m/image\u001b[39m\u001b[39m\"\u001b[39m\n",
      "File \u001b[1;32mc:\\Users\\skoprowi\\AppData\\Local\\Programs\\Python\\Python311\\Lib\\site-packages\\tensorboard\\plugins\\histogram\\summary_v2.py:196\u001b[0m, in \u001b[0;36mhistogram\u001b[1;34m(name, data, step, buckets, description)\u001b[0m\n\u001b[0;32m    192\u001b[0m \u001b[39m@lazy_tensor_creator\u001b[39m\u001b[39m.\u001b[39mLazyTensorCreator\n\u001b[0;32m    193\u001b[0m \u001b[39mdef\u001b[39;00m \u001b[39mlazy_tensor\u001b[39m():\n\u001b[0;32m    194\u001b[0m     \u001b[39mreturn\u001b[39;00m _buckets(data, buckets)\n\u001b[1;32m--> 196\u001b[0m \u001b[39mreturn\u001b[39;00m tf\u001b[39m.\u001b[39;49msummary\u001b[39m.\u001b[39;49mwrite(\n\u001b[0;32m    197\u001b[0m     tag\u001b[39m=\u001b[39;49mtag,\n\u001b[0;32m    198\u001b[0m     tensor\u001b[39m=\u001b[39;49mlazy_tensor,\n\u001b[0;32m    199\u001b[0m     step\u001b[39m=\u001b[39;49mstep,\n\u001b[0;32m    200\u001b[0m     metadata\u001b[39m=\u001b[39;49msummary_metadata,\n\u001b[0;32m    201\u001b[0m )\n",
      "File \u001b[1;32mc:\\Users\\skoprowi\\AppData\\Local\\Programs\\Python\\Python311\\Lib\\site-packages\\tensorflow\\python\\ops\\summary_ops_v2.py:769\u001b[0m, in \u001b[0;36mwrite\u001b[1;34m(tag, tensor, step, metadata, name)\u001b[0m\n\u001b[0;32m    766\u001b[0m     \u001b[39mwith\u001b[39;00m ops\u001b[39m.\u001b[39mcontrol_dependencies([write_summary_op]):\n\u001b[0;32m    767\u001b[0m       \u001b[39mreturn\u001b[39;00m constant_op\u001b[39m.\u001b[39mconstant(\u001b[39mTrue\u001b[39;00m)\n\u001b[1;32m--> 769\u001b[0m op \u001b[39m=\u001b[39m smart_cond\u001b[39m.\u001b[39;49msmart_cond(\n\u001b[0;32m    770\u001b[0m     should_record_summaries(), record, _nothing, name\u001b[39m=\u001b[39;49m\u001b[39m\"\u001b[39;49m\u001b[39msummary_cond\u001b[39;49m\u001b[39m\"\u001b[39;49m)\n\u001b[0;32m    771\u001b[0m \u001b[39mif\u001b[39;00m \u001b[39mnot\u001b[39;00m context\u001b[39m.\u001b[39mexecuting_eagerly():\n\u001b[0;32m    772\u001b[0m   ops\u001b[39m.\u001b[39madd_to_collection(ops\u001b[39m.\u001b[39mGraphKeys\u001b[39m.\u001b[39m_SUMMARY_COLLECTION, op)  \u001b[39m# pylint: disable=protected-access\u001b[39;00m\n",
      "File \u001b[1;32mc:\\Users\\skoprowi\\AppData\\Local\\Programs\\Python\\Python311\\Lib\\site-packages\\tensorflow\\python\\framework\\smart_cond.py:52\u001b[0m, in \u001b[0;36msmart_cond\u001b[1;34m(pred, true_fn, false_fn, name)\u001b[0m\n\u001b[0;32m     50\u001b[0m \u001b[39mif\u001b[39;00m pred_value \u001b[39mis\u001b[39;00m \u001b[39mnot\u001b[39;00m \u001b[39mNone\u001b[39;00m:\n\u001b[0;32m     51\u001b[0m   \u001b[39mif\u001b[39;00m pred_value:\n\u001b[1;32m---> 52\u001b[0m     \u001b[39mreturn\u001b[39;00m true_fn()\n\u001b[0;32m     53\u001b[0m   \u001b[39melse\u001b[39;00m:\n\u001b[0;32m     54\u001b[0m     \u001b[39mreturn\u001b[39;00m false_fn()\n",
      "File \u001b[1;32mc:\\Users\\skoprowi\\AppData\\Local\\Programs\\Python\\Python311\\Lib\\site-packages\\tensorflow\\python\\ops\\summary_ops_v2.py:757\u001b[0m, in \u001b[0;36mwrite.<locals>.record\u001b[1;34m()\u001b[0m\n\u001b[0;32m    755\u001b[0m \u001b[39m# Note the identity to move the tensor to the CPU.\u001b[39;00m\n\u001b[0;32m    756\u001b[0m \u001b[39mwith\u001b[39;00m ops\u001b[39m.\u001b[39mdevice(\u001b[39m\"\u001b[39m\u001b[39mcpu:0\u001b[39m\u001b[39m\"\u001b[39m):\n\u001b[1;32m--> 757\u001b[0m   summary_tensor \u001b[39m=\u001b[39m tensor() \u001b[39mif\u001b[39;00m callable(tensor) \u001b[39melse\u001b[39;00m array_ops\u001b[39m.\u001b[39midentity(\n\u001b[0;32m    758\u001b[0m       tensor)\n\u001b[0;32m    759\u001b[0m   write_summary_op \u001b[39m=\u001b[39m gen_summary_ops\u001b[39m.\u001b[39mwrite_summary(\n\u001b[0;32m    760\u001b[0m       _summary_state\u001b[39m.\u001b[39mwriter\u001b[39m.\u001b[39m_resource,  \u001b[39m# pylint: disable=protected-access\u001b[39;00m\n\u001b[0;32m    761\u001b[0m       step,\n\u001b[1;32m   (...)\u001b[0m\n\u001b[0;32m    764\u001b[0m       serialized_metadata,\n\u001b[0;32m    765\u001b[0m       name\u001b[39m=\u001b[39mscope)\n\u001b[0;32m    766\u001b[0m   \u001b[39mwith\u001b[39;00m ops\u001b[39m.\u001b[39mcontrol_dependencies([write_summary_op]):\n",
      "File \u001b[1;32mc:\\Users\\skoprowi\\AppData\\Local\\Programs\\Python\\Python311\\Lib\\site-packages\\tensorboard\\util\\lazy_tensor_creator.py:66\u001b[0m, in \u001b[0;36mLazyTensorCreator.__call__\u001b[1;34m(self)\u001b[0m\n\u001b[0;32m     64\u001b[0m         \u001b[39melif\u001b[39;00m \u001b[39mself\u001b[39m\u001b[39m.\u001b[39m_tensor \u001b[39mis\u001b[39;00m \u001b[39mNone\u001b[39;00m:\n\u001b[0;32m     65\u001b[0m             \u001b[39mself\u001b[39m\u001b[39m.\u001b[39m_tensor \u001b[39m=\u001b[39m _CALL_IN_PROGRESS_SENTINEL\n\u001b[1;32m---> 66\u001b[0m             \u001b[39mself\u001b[39m\u001b[39m.\u001b[39m_tensor \u001b[39m=\u001b[39m \u001b[39mself\u001b[39;49m\u001b[39m.\u001b[39;49m_tensor_callable()\n\u001b[0;32m     67\u001b[0m \u001b[39mreturn\u001b[39;00m \u001b[39mself\u001b[39m\u001b[39m.\u001b[39m_tensor\n",
      "File \u001b[1;32mc:\\Users\\skoprowi\\AppData\\Local\\Programs\\Python\\Python311\\Lib\\site-packages\\tensorboard\\plugins\\histogram\\summary_v2.py:194\u001b[0m, in \u001b[0;36mhistogram.<locals>.lazy_tensor\u001b[1;34m()\u001b[0m\n\u001b[0;32m    192\u001b[0m \u001b[39m@lazy_tensor_creator\u001b[39m\u001b[39m.\u001b[39mLazyTensorCreator\n\u001b[0;32m    193\u001b[0m \u001b[39mdef\u001b[39;00m \u001b[39mlazy_tensor\u001b[39m():\n\u001b[1;32m--> 194\u001b[0m     \u001b[39mreturn\u001b[39;00m _buckets(data, buckets)\n",
      "File \u001b[1;32mc:\\Users\\skoprowi\\AppData\\Local\\Programs\\Python\\Python311\\Lib\\site-packages\\tensorboard\\plugins\\histogram\\summary_v2.py:293\u001b[0m, in \u001b[0;36m_buckets\u001b[1;34m(data, bucket_count)\u001b[0m\n\u001b[0;32m    287\u001b[0m         \u001b[39mreturn\u001b[39;00m tf\u001b[39m.\u001b[39mtranspose(a\u001b[39m=\u001b[39mtf\u001b[39m.\u001b[39mstack([edges, edges, bucket_counts]))\n\u001b[0;32m    289\u001b[0m     \u001b[39mreturn\u001b[39;00m tf\u001b[39m.\u001b[39mcond(\n\u001b[0;32m    290\u001b[0m         has_single_value, when_single_value, when_multiple_values\n\u001b[0;32m    291\u001b[0m     )\n\u001b[1;32m--> 293\u001b[0m \u001b[39mreturn\u001b[39;00m tf\u001b[39m.\u001b[39;49mcond(is_empty, when_empty, when_nonempty)\n",
      "File \u001b[1;32mc:\\Users\\skoprowi\\AppData\\Local\\Programs\\Python\\Python311\\Lib\\site-packages\\tensorflow\\python\\util\\traceback_utils.py:150\u001b[0m, in \u001b[0;36mfilter_traceback.<locals>.error_handler\u001b[1;34m(*args, **kwargs)\u001b[0m\n\u001b[0;32m    148\u001b[0m filtered_tb \u001b[39m=\u001b[39m \u001b[39mNone\u001b[39;00m\n\u001b[0;32m    149\u001b[0m \u001b[39mtry\u001b[39;00m:\n\u001b[1;32m--> 150\u001b[0m   \u001b[39mreturn\u001b[39;00m fn(\u001b[39m*\u001b[39;49margs, \u001b[39m*\u001b[39;49m\u001b[39m*\u001b[39;49mkwargs)\n\u001b[0;32m    151\u001b[0m \u001b[39mexcept\u001b[39;00m \u001b[39mException\u001b[39;00m \u001b[39mas\u001b[39;00m e:\n\u001b[0;32m    152\u001b[0m   filtered_tb \u001b[39m=\u001b[39m _process_traceback_frames(e\u001b[39m.\u001b[39m__traceback__)\n",
      "File \u001b[1;32mc:\\Users\\skoprowi\\AppData\\Local\\Programs\\Python\\Python311\\Lib\\site-packages\\tensorflow\\python\\util\\dispatch.py:1176\u001b[0m, in \u001b[0;36madd_dispatch_support.<locals>.decorator.<locals>.op_dispatch_handler\u001b[1;34m(*args, **kwargs)\u001b[0m\n\u001b[0;32m   1174\u001b[0m \u001b[39m# Fallback dispatch system (dispatch v1):\u001b[39;00m\n\u001b[0;32m   1175\u001b[0m \u001b[39mtry\u001b[39;00m:\n\u001b[1;32m-> 1176\u001b[0m   \u001b[39mreturn\u001b[39;00m dispatch_target(\u001b[39m*\u001b[39;49margs, \u001b[39m*\u001b[39;49m\u001b[39m*\u001b[39;49mkwargs)\n\u001b[0;32m   1177\u001b[0m \u001b[39mexcept\u001b[39;00m (\u001b[39mTypeError\u001b[39;00m, \u001b[39mValueError\u001b[39;00m):\n\u001b[0;32m   1178\u001b[0m   \u001b[39m# Note: convert_to_eager_tensor currently raises a ValueError, not a\u001b[39;00m\n\u001b[0;32m   1179\u001b[0m   \u001b[39m# TypeError, when given unexpected types.  So we need to catch both.\u001b[39;00m\n\u001b[0;32m   1180\u001b[0m   result \u001b[39m=\u001b[39m dispatch(op_dispatch_handler, args, kwargs)\n",
      "File \u001b[1;32mc:\\Users\\skoprowi\\AppData\\Local\\Programs\\Python\\Python311\\Lib\\site-packages\\tensorflow\\python\\ops\\control_flow_ops.py:1427\u001b[0m, in \u001b[0;36mcond_for_tf_v2\u001b[1;34m(pred, true_fn, false_fn, name)\u001b[0m\n\u001b[0;32m   1327\u001b[0m \u001b[39m@tf_export\u001b[39m(\u001b[39m\"\u001b[39m\u001b[39mcond\u001b[39m\u001b[39m\"\u001b[39m, v1\u001b[39m=\u001b[39m[])\n\u001b[0;32m   1328\u001b[0m \u001b[39m@dispatch\u001b[39m\u001b[39m.\u001b[39madd_dispatch_support\n\u001b[0;32m   1329\u001b[0m \u001b[39mdef\u001b[39;00m \u001b[39mcond_for_tf_v2\u001b[39m(pred, true_fn\u001b[39m=\u001b[39m\u001b[39mNone\u001b[39;00m, false_fn\u001b[39m=\u001b[39m\u001b[39mNone\u001b[39;00m, name\u001b[39m=\u001b[39m\u001b[39mNone\u001b[39;00m):\n\u001b[0;32m   1330\u001b[0m \u001b[39m  \u001b[39m\u001b[39m\"\"\"Return `true_fn()` if the predicate `pred` is true else `false_fn()`.\u001b[39;00m\n\u001b[0;32m   1331\u001b[0m \n\u001b[0;32m   1332\u001b[0m \u001b[39m  Note: This op is automatically used in a `tf.function` to convert Python\u001b[39;00m\n\u001b[1;32m   (...)\u001b[0m\n\u001b[0;32m   1425\u001b[0m \n\u001b[0;32m   1426\u001b[0m \u001b[39m  \"\"\"\u001b[39;00m\n\u001b[1;32m-> 1427\u001b[0m   \u001b[39mreturn\u001b[39;00m cond(pred, true_fn\u001b[39m=\u001b[39;49mtrue_fn, false_fn\u001b[39m=\u001b[39;49mfalse_fn, strict\u001b[39m=\u001b[39;49m\u001b[39mTrue\u001b[39;49;00m, name\u001b[39m=\u001b[39;49mname)\n",
      "File \u001b[1;32mc:\\Users\\skoprowi\\AppData\\Local\\Programs\\Python\\Python311\\Lib\\site-packages\\tensorflow\\python\\util\\traceback_utils.py:150\u001b[0m, in \u001b[0;36mfilter_traceback.<locals>.error_handler\u001b[1;34m(*args, **kwargs)\u001b[0m\n\u001b[0;32m    148\u001b[0m filtered_tb \u001b[39m=\u001b[39m \u001b[39mNone\u001b[39;00m\n\u001b[0;32m    149\u001b[0m \u001b[39mtry\u001b[39;00m:\n\u001b[1;32m--> 150\u001b[0m   \u001b[39mreturn\u001b[39;00m fn(\u001b[39m*\u001b[39;49margs, \u001b[39m*\u001b[39;49m\u001b[39m*\u001b[39;49mkwargs)\n\u001b[0;32m    151\u001b[0m \u001b[39mexcept\u001b[39;00m \u001b[39mException\u001b[39;00m \u001b[39mas\u001b[39;00m e:\n\u001b[0;32m    152\u001b[0m   filtered_tb \u001b[39m=\u001b[39m _process_traceback_frames(e\u001b[39m.\u001b[39m__traceback__)\n",
      "File \u001b[1;32mc:\\Users\\skoprowi\\AppData\\Local\\Programs\\Python\\Python311\\Lib\\site-packages\\tensorflow\\python\\util\\dispatch.py:1176\u001b[0m, in \u001b[0;36madd_dispatch_support.<locals>.decorator.<locals>.op_dispatch_handler\u001b[1;34m(*args, **kwargs)\u001b[0m\n\u001b[0;32m   1174\u001b[0m \u001b[39m# Fallback dispatch system (dispatch v1):\u001b[39;00m\n\u001b[0;32m   1175\u001b[0m \u001b[39mtry\u001b[39;00m:\n\u001b[1;32m-> 1176\u001b[0m   \u001b[39mreturn\u001b[39;00m dispatch_target(\u001b[39m*\u001b[39;49margs, \u001b[39m*\u001b[39;49m\u001b[39m*\u001b[39;49mkwargs)\n\u001b[0;32m   1177\u001b[0m \u001b[39mexcept\u001b[39;00m (\u001b[39mTypeError\u001b[39;00m, \u001b[39mValueError\u001b[39;00m):\n\u001b[0;32m   1178\u001b[0m   \u001b[39m# Note: convert_to_eager_tensor currently raises a ValueError, not a\u001b[39;00m\n\u001b[0;32m   1179\u001b[0m   \u001b[39m# TypeError, when given unexpected types.  So we need to catch both.\u001b[39;00m\n\u001b[0;32m   1180\u001b[0m   result \u001b[39m=\u001b[39m dispatch(op_dispatch_handler, args, kwargs)\n",
      "File \u001b[1;32mc:\\Users\\skoprowi\\AppData\\Local\\Programs\\Python\\Python311\\Lib\\site-packages\\tensorflow\\python\\util\\deprecation.py:576\u001b[0m, in \u001b[0;36mdeprecated_args.<locals>.deprecated_wrapper.<locals>.new_func\u001b[1;34m(*args, **kwargs)\u001b[0m\n\u001b[0;32m    568\u001b[0m         _PRINTED_WARNING[(func, arg_name)] \u001b[39m=\u001b[39m \u001b[39mTrue\u001b[39;00m\n\u001b[0;32m    569\u001b[0m       logging\u001b[39m.\u001b[39mwarning(\n\u001b[0;32m    570\u001b[0m           \u001b[39m'\u001b[39m\u001b[39mFrom \u001b[39m\u001b[39m%s\u001b[39;00m\u001b[39m: calling \u001b[39m\u001b[39m%s\u001b[39;00m\u001b[39m (from \u001b[39m\u001b[39m%s\u001b[39;00m\u001b[39m) with \u001b[39m\u001b[39m%s\u001b[39;00m\u001b[39m is deprecated and will \u001b[39m\u001b[39m'\u001b[39m\n\u001b[0;32m    571\u001b[0m           \u001b[39m'\u001b[39m\u001b[39mbe removed \u001b[39m\u001b[39m%s\u001b[39;00m\u001b[39m.\u001b[39m\u001b[39m\\n\u001b[39;00m\u001b[39mInstructions for updating:\u001b[39m\u001b[39m\\n\u001b[39;00m\u001b[39m%s\u001b[39;00m\u001b[39m'\u001b[39m,\n\u001b[1;32m   (...)\u001b[0m\n\u001b[0;32m    574\u001b[0m           \u001b[39m'\u001b[39m\u001b[39min a future version\u001b[39m\u001b[39m'\u001b[39m \u001b[39mif\u001b[39;00m date \u001b[39mis\u001b[39;00m \u001b[39mNone\u001b[39;00m \u001b[39melse\u001b[39;00m (\u001b[39m'\u001b[39m\u001b[39mafter \u001b[39m\u001b[39m%s\u001b[39;00m\u001b[39m'\u001b[39m \u001b[39m%\u001b[39m date),\n\u001b[0;32m    575\u001b[0m           instructions)\n\u001b[1;32m--> 576\u001b[0m \u001b[39mreturn\u001b[39;00m func(\u001b[39m*\u001b[39;49margs, \u001b[39m*\u001b[39;49m\u001b[39m*\u001b[39;49mkwargs)\n",
      "File \u001b[1;32mc:\\Users\\skoprowi\\AppData\\Local\\Programs\\Python\\Python311\\Lib\\site-packages\\tensorflow\\python\\ops\\control_flow_ops.py:1206\u001b[0m, in \u001b[0;36mcond\u001b[1;34m(pred, true_fn, false_fn, strict, name, fn1, fn2)\u001b[0m\n\u001b[0;32m   1203\u001b[0m   \u001b[39mraise\u001b[39;00m \u001b[39mTypeError\u001b[39;00m(\u001b[39m\"\u001b[39m\u001b[39m'\u001b[39m\u001b[39mfalse_fn\u001b[39m\u001b[39m'\u001b[39m\u001b[39m must be callable.\u001b[39m\u001b[39m\"\u001b[39m)\n\u001b[0;32m   1205\u001b[0m \u001b[39mif\u001b[39;00m context\u001b[39m.\u001b[39mexecuting_eagerly():\n\u001b[1;32m-> 1206\u001b[0m   \u001b[39mreturn\u001b[39;00m _eager_cond_implementation(pred, true_fn, false_fn, strict, name)\n\u001b[0;32m   1208\u001b[0m \u001b[39m# Always enable control flow v2 if building a function, regardless of toggle.\u001b[39;00m\n\u001b[0;32m   1209\u001b[0m \u001b[39mif\u001b[39;00m util\u001b[39m.\u001b[39mEnableControlFlowV2(ops\u001b[39m.\u001b[39mget_default_graph()):\n",
      "File \u001b[1;32mc:\\Users\\skoprowi\\AppData\\Local\\Programs\\Python\\Python311\\Lib\\site-packages\\tensorflow\\python\\ops\\control_flow_ops.py:1095\u001b[0m, in \u001b[0;36m_eager_cond_implementation\u001b[1;34m(pred, true_fn, false_fn, strict, name)\u001b[0m\n\u001b[0;32m   1093\u001b[0m   result \u001b[39m=\u001b[39m true_fn()\n\u001b[0;32m   1094\u001b[0m \u001b[39melse\u001b[39;00m:\n\u001b[1;32m-> 1095\u001b[0m   result \u001b[39m=\u001b[39m false_fn()\n\u001b[0;32m   1096\u001b[0m \u001b[39mif\u001b[39;00m \u001b[39mnot\u001b[39;00m strict:\n\u001b[0;32m   1097\u001b[0m   result \u001b[39m=\u001b[39m _UnpackIfSingleton(result)\n",
      "File \u001b[1;32mc:\\Users\\skoprowi\\AppData\\Local\\Programs\\Python\\Python311\\Lib\\site-packages\\tensorboard\\plugins\\histogram\\summary_v2.py:289\u001b[0m, in \u001b[0;36m_buckets.<locals>.when_nonempty\u001b[1;34m()\u001b[0m\n\u001b[0;32m    283\u001b[0m     bucket_counts \u001b[39m=\u001b[39m tf\u001b[39m.\u001b[39mcast(\n\u001b[0;32m    284\u001b[0m         tf\u001b[39m.\u001b[39mconcat([zeroes[:\u001b[39m-\u001b[39m\u001b[39m1\u001b[39m], [data_size]], \u001b[39m0\u001b[39m)[:bucket_count],\n\u001b[0;32m    285\u001b[0m         dtype\u001b[39m=\u001b[39mtf\u001b[39m.\u001b[39mfloat64,\n\u001b[0;32m    286\u001b[0m     )\n\u001b[0;32m    287\u001b[0m     \u001b[39mreturn\u001b[39;00m tf\u001b[39m.\u001b[39mtranspose(a\u001b[39m=\u001b[39mtf\u001b[39m.\u001b[39mstack([edges, edges, bucket_counts]))\n\u001b[1;32m--> 289\u001b[0m \u001b[39mreturn\u001b[39;00m tf\u001b[39m.\u001b[39;49mcond(\n\u001b[0;32m    290\u001b[0m     has_single_value, when_single_value, when_multiple_values\n\u001b[0;32m    291\u001b[0m )\n",
      "File \u001b[1;32mc:\\Users\\skoprowi\\AppData\\Local\\Programs\\Python\\Python311\\Lib\\site-packages\\tensorflow\\python\\util\\traceback_utils.py:150\u001b[0m, in \u001b[0;36mfilter_traceback.<locals>.error_handler\u001b[1;34m(*args, **kwargs)\u001b[0m\n\u001b[0;32m    148\u001b[0m filtered_tb \u001b[39m=\u001b[39m \u001b[39mNone\u001b[39;00m\n\u001b[0;32m    149\u001b[0m \u001b[39mtry\u001b[39;00m:\n\u001b[1;32m--> 150\u001b[0m   \u001b[39mreturn\u001b[39;00m fn(\u001b[39m*\u001b[39;49margs, \u001b[39m*\u001b[39;49m\u001b[39m*\u001b[39;49mkwargs)\n\u001b[0;32m    151\u001b[0m \u001b[39mexcept\u001b[39;00m \u001b[39mException\u001b[39;00m \u001b[39mas\u001b[39;00m e:\n\u001b[0;32m    152\u001b[0m   filtered_tb \u001b[39m=\u001b[39m _process_traceback_frames(e\u001b[39m.\u001b[39m__traceback__)\n",
      "File \u001b[1;32mc:\\Users\\skoprowi\\AppData\\Local\\Programs\\Python\\Python311\\Lib\\site-packages\\tensorflow\\python\\util\\dispatch.py:1176\u001b[0m, in \u001b[0;36madd_dispatch_support.<locals>.decorator.<locals>.op_dispatch_handler\u001b[1;34m(*args, **kwargs)\u001b[0m\n\u001b[0;32m   1174\u001b[0m \u001b[39m# Fallback dispatch system (dispatch v1):\u001b[39;00m\n\u001b[0;32m   1175\u001b[0m \u001b[39mtry\u001b[39;00m:\n\u001b[1;32m-> 1176\u001b[0m   \u001b[39mreturn\u001b[39;00m dispatch_target(\u001b[39m*\u001b[39;49margs, \u001b[39m*\u001b[39;49m\u001b[39m*\u001b[39;49mkwargs)\n\u001b[0;32m   1177\u001b[0m \u001b[39mexcept\u001b[39;00m (\u001b[39mTypeError\u001b[39;00m, \u001b[39mValueError\u001b[39;00m):\n\u001b[0;32m   1178\u001b[0m   \u001b[39m# Note: convert_to_eager_tensor currently raises a ValueError, not a\u001b[39;00m\n\u001b[0;32m   1179\u001b[0m   \u001b[39m# TypeError, when given unexpected types.  So we need to catch both.\u001b[39;00m\n\u001b[0;32m   1180\u001b[0m   result \u001b[39m=\u001b[39m dispatch(op_dispatch_handler, args, kwargs)\n",
      "File \u001b[1;32mc:\\Users\\skoprowi\\AppData\\Local\\Programs\\Python\\Python311\\Lib\\site-packages\\tensorflow\\python\\ops\\control_flow_ops.py:1427\u001b[0m, in \u001b[0;36mcond_for_tf_v2\u001b[1;34m(pred, true_fn, false_fn, name)\u001b[0m\n\u001b[0;32m   1327\u001b[0m \u001b[39m@tf_export\u001b[39m(\u001b[39m\"\u001b[39m\u001b[39mcond\u001b[39m\u001b[39m\"\u001b[39m, v1\u001b[39m=\u001b[39m[])\n\u001b[0;32m   1328\u001b[0m \u001b[39m@dispatch\u001b[39m\u001b[39m.\u001b[39madd_dispatch_support\n\u001b[0;32m   1329\u001b[0m \u001b[39mdef\u001b[39;00m \u001b[39mcond_for_tf_v2\u001b[39m(pred, true_fn\u001b[39m=\u001b[39m\u001b[39mNone\u001b[39;00m, false_fn\u001b[39m=\u001b[39m\u001b[39mNone\u001b[39;00m, name\u001b[39m=\u001b[39m\u001b[39mNone\u001b[39;00m):\n\u001b[0;32m   1330\u001b[0m \u001b[39m  \u001b[39m\u001b[39m\"\"\"Return `true_fn()` if the predicate `pred` is true else `false_fn()`.\u001b[39;00m\n\u001b[0;32m   1331\u001b[0m \n\u001b[0;32m   1332\u001b[0m \u001b[39m  Note: This op is automatically used in a `tf.function` to convert Python\u001b[39;00m\n\u001b[1;32m   (...)\u001b[0m\n\u001b[0;32m   1425\u001b[0m \n\u001b[0;32m   1426\u001b[0m \u001b[39m  \"\"\"\u001b[39;00m\n\u001b[1;32m-> 1427\u001b[0m   \u001b[39mreturn\u001b[39;00m cond(pred, true_fn\u001b[39m=\u001b[39;49mtrue_fn, false_fn\u001b[39m=\u001b[39;49mfalse_fn, strict\u001b[39m=\u001b[39;49m\u001b[39mTrue\u001b[39;49;00m, name\u001b[39m=\u001b[39;49mname)\n",
      "File \u001b[1;32mc:\\Users\\skoprowi\\AppData\\Local\\Programs\\Python\\Python311\\Lib\\site-packages\\tensorflow\\python\\util\\traceback_utils.py:150\u001b[0m, in \u001b[0;36mfilter_traceback.<locals>.error_handler\u001b[1;34m(*args, **kwargs)\u001b[0m\n\u001b[0;32m    148\u001b[0m filtered_tb \u001b[39m=\u001b[39m \u001b[39mNone\u001b[39;00m\n\u001b[0;32m    149\u001b[0m \u001b[39mtry\u001b[39;00m:\n\u001b[1;32m--> 150\u001b[0m   \u001b[39mreturn\u001b[39;00m fn(\u001b[39m*\u001b[39;49margs, \u001b[39m*\u001b[39;49m\u001b[39m*\u001b[39;49mkwargs)\n\u001b[0;32m    151\u001b[0m \u001b[39mexcept\u001b[39;00m \u001b[39mException\u001b[39;00m \u001b[39mas\u001b[39;00m e:\n\u001b[0;32m    152\u001b[0m   filtered_tb \u001b[39m=\u001b[39m _process_traceback_frames(e\u001b[39m.\u001b[39m__traceback__)\n",
      "File \u001b[1;32mc:\\Users\\skoprowi\\AppData\\Local\\Programs\\Python\\Python311\\Lib\\site-packages\\tensorflow\\python\\util\\dispatch.py:1176\u001b[0m, in \u001b[0;36madd_dispatch_support.<locals>.decorator.<locals>.op_dispatch_handler\u001b[1;34m(*args, **kwargs)\u001b[0m\n\u001b[0;32m   1174\u001b[0m \u001b[39m# Fallback dispatch system (dispatch v1):\u001b[39;00m\n\u001b[0;32m   1175\u001b[0m \u001b[39mtry\u001b[39;00m:\n\u001b[1;32m-> 1176\u001b[0m   \u001b[39mreturn\u001b[39;00m dispatch_target(\u001b[39m*\u001b[39;49margs, \u001b[39m*\u001b[39;49m\u001b[39m*\u001b[39;49mkwargs)\n\u001b[0;32m   1177\u001b[0m \u001b[39mexcept\u001b[39;00m (\u001b[39mTypeError\u001b[39;00m, \u001b[39mValueError\u001b[39;00m):\n\u001b[0;32m   1178\u001b[0m   \u001b[39m# Note: convert_to_eager_tensor currently raises a ValueError, not a\u001b[39;00m\n\u001b[0;32m   1179\u001b[0m   \u001b[39m# TypeError, when given unexpected types.  So we need to catch both.\u001b[39;00m\n\u001b[0;32m   1180\u001b[0m   result \u001b[39m=\u001b[39m dispatch(op_dispatch_handler, args, kwargs)\n",
      "File \u001b[1;32mc:\\Users\\skoprowi\\AppData\\Local\\Programs\\Python\\Python311\\Lib\\site-packages\\tensorflow\\python\\util\\deprecation.py:576\u001b[0m, in \u001b[0;36mdeprecated_args.<locals>.deprecated_wrapper.<locals>.new_func\u001b[1;34m(*args, **kwargs)\u001b[0m\n\u001b[0;32m    568\u001b[0m         _PRINTED_WARNING[(func, arg_name)] \u001b[39m=\u001b[39m \u001b[39mTrue\u001b[39;00m\n\u001b[0;32m    569\u001b[0m       logging\u001b[39m.\u001b[39mwarning(\n\u001b[0;32m    570\u001b[0m           \u001b[39m'\u001b[39m\u001b[39mFrom \u001b[39m\u001b[39m%s\u001b[39;00m\u001b[39m: calling \u001b[39m\u001b[39m%s\u001b[39;00m\u001b[39m (from \u001b[39m\u001b[39m%s\u001b[39;00m\u001b[39m) with \u001b[39m\u001b[39m%s\u001b[39;00m\u001b[39m is deprecated and will \u001b[39m\u001b[39m'\u001b[39m\n\u001b[0;32m    571\u001b[0m           \u001b[39m'\u001b[39m\u001b[39mbe removed \u001b[39m\u001b[39m%s\u001b[39;00m\u001b[39m.\u001b[39m\u001b[39m\\n\u001b[39;00m\u001b[39mInstructions for updating:\u001b[39m\u001b[39m\\n\u001b[39;00m\u001b[39m%s\u001b[39;00m\u001b[39m'\u001b[39m,\n\u001b[1;32m   (...)\u001b[0m\n\u001b[0;32m    574\u001b[0m           \u001b[39m'\u001b[39m\u001b[39min a future version\u001b[39m\u001b[39m'\u001b[39m \u001b[39mif\u001b[39;00m date \u001b[39mis\u001b[39;00m \u001b[39mNone\u001b[39;00m \u001b[39melse\u001b[39;00m (\u001b[39m'\u001b[39m\u001b[39mafter \u001b[39m\u001b[39m%s\u001b[39;00m\u001b[39m'\u001b[39m \u001b[39m%\u001b[39m date),\n\u001b[0;32m    575\u001b[0m           instructions)\n\u001b[1;32m--> 576\u001b[0m \u001b[39mreturn\u001b[39;00m func(\u001b[39m*\u001b[39;49margs, \u001b[39m*\u001b[39;49m\u001b[39m*\u001b[39;49mkwargs)\n",
      "File \u001b[1;32mc:\\Users\\skoprowi\\AppData\\Local\\Programs\\Python\\Python311\\Lib\\site-packages\\tensorflow\\python\\ops\\control_flow_ops.py:1206\u001b[0m, in \u001b[0;36mcond\u001b[1;34m(pred, true_fn, false_fn, strict, name, fn1, fn2)\u001b[0m\n\u001b[0;32m   1203\u001b[0m   \u001b[39mraise\u001b[39;00m \u001b[39mTypeError\u001b[39;00m(\u001b[39m\"\u001b[39m\u001b[39m'\u001b[39m\u001b[39mfalse_fn\u001b[39m\u001b[39m'\u001b[39m\u001b[39m must be callable.\u001b[39m\u001b[39m\"\u001b[39m)\n\u001b[0;32m   1205\u001b[0m \u001b[39mif\u001b[39;00m context\u001b[39m.\u001b[39mexecuting_eagerly():\n\u001b[1;32m-> 1206\u001b[0m   \u001b[39mreturn\u001b[39;00m _eager_cond_implementation(pred, true_fn, false_fn, strict, name)\n\u001b[0;32m   1208\u001b[0m \u001b[39m# Always enable control flow v2 if building a function, regardless of toggle.\u001b[39;00m\n\u001b[0;32m   1209\u001b[0m \u001b[39mif\u001b[39;00m util\u001b[39m.\u001b[39mEnableControlFlowV2(ops\u001b[39m.\u001b[39mget_default_graph()):\n",
      "File \u001b[1;32mc:\\Users\\skoprowi\\AppData\\Local\\Programs\\Python\\Python311\\Lib\\site-packages\\tensorflow\\python\\ops\\control_flow_ops.py:1091\u001b[0m, in \u001b[0;36m_eager_cond_implementation\u001b[1;34m(pred, true_fn, false_fn, strict, name)\u001b[0m\n\u001b[0;32m   1087\u001b[0m       def_function\u001b[39m.\u001b[39mrun_functions_eagerly(functions_run_eagerly)\n\u001b[0;32m   1088\u001b[0m \u001b[39melse\u001b[39;00m:\n\u001b[0;32m   1089\u001b[0m   \u001b[39m# For conditions which are eager tensors with a constant value (most of\u001b[39;00m\n\u001b[0;32m   1090\u001b[0m   \u001b[39m# them), we only call the relevant branch function and execute it eagerly.\u001b[39;00m\n\u001b[1;32m-> 1091\u001b[0m   \u001b[39mwith\u001b[39;49;00m ops\u001b[39m.\u001b[39;49mname_scope(name, \u001b[39m\"\u001b[39;49m\u001b[39mcond\u001b[39;49m\u001b[39m\"\u001b[39;49m, [pred]):\n\u001b[0;32m   1092\u001b[0m     \u001b[39mif\u001b[39;49;00m pred_constant_value:\n\u001b[0;32m   1093\u001b[0m       result \u001b[39m=\u001b[39;49m true_fn()\n",
      "File \u001b[1;32mc:\\Users\\skoprowi\\AppData\\Local\\Programs\\Python\\Python311\\Lib\\site-packages\\tensorflow\\python\\framework\\ops.py:175\u001b[0m, in \u001b[0;36mNullContextmanager.__exit__\u001b[1;34m(self, type_arg, value_arg, traceback_arg)\u001b[0m\n\u001b[0;32m    172\u001b[0m \u001b[39mdef\u001b[39;00m \u001b[39m__enter__\u001b[39m(\u001b[39mself\u001b[39m):\n\u001b[0;32m    173\u001b[0m   \u001b[39mpass\u001b[39;00m\n\u001b[1;32m--> 175\u001b[0m \u001b[39mdef\u001b[39;00m \u001b[39m__exit__\u001b[39m(\u001b[39mself\u001b[39m, type_arg, value_arg, traceback_arg):\n\u001b[0;32m    176\u001b[0m   \u001b[39mreturn\u001b[39;00m \u001b[39mFalse\u001b[39;00m\n",
      "\u001b[1;31mKeyboardInterrupt\u001b[0m: "
     ]
    }
   ],
   "source": [
    "# classify race\n",
    "fbmodel = Sequential()\n",
    "fbmodel.add(keras.Input(shape=(32,32,1)))\n",
    "fbmodel.add(layers.Flatten())\n",
    "fbmodel.add(layers.Dense(1024, activation='tanh'))\n",
    "fbmodel.add(layers.Dense(512, activation='sigmoid'))\n",
    "fbmodel.add(layers.Dense(100, activation='relu'))\n",
    "# find n for the task, add this layer\n",
    "n = numRaces\n",
    "fbmodel.add(layers.Dense(n, activation='softmax'))\n",
    "# min max already taken care of, use mini-batch gradient descent to optimize categorical cross entropy, \n",
    "# record and graph each epoch's epoch-accuracy and epoch-loss for both the training and validation set\n",
    "# also graph the confusion matrix\n",
    "opt = keras.optimizers.SGD(learning_rate=0.01)\n",
    "fbmodel.compile(\n",
    "    optimizer=opt,\n",
    "    loss='categorical_crossentropy',\n",
    "    metrics=['accuracy']\n",
    ")\n",
    "\n",
    "logdir = os.path.join(\"logs\", datetime.datetime.now().strftime(\"%Y%m%d-%H%M%S_Task1Races\"))\n",
    "tensorboard_callback = keras.callbacks.TensorBoard(logdir, histogram_freq=1)\n",
    "\n",
    "fbmodel.fit(training_images, races, epochs=100, batch_size=10, validation_data=(testing_images, racesVal), callbacks=[tensorboard_callback])\n",
    "# if you have the setup and training in different blocks in the notebook, \n",
    "# you can accidentally train it multiple times, compounding how well it gets trained, \n",
    "# so keep the training in the same block as the setup"
   ]
  },
  {
   "cell_type": "markdown",
   "id": "3a144b11",
   "metadata": {},
   "source": [
    "## Task 2: Convolutional Network\n",
    "#### 2. Build a convolutional network (also for 2 tasks)\n",
    "###### a. conv layer with 40 feature detectors, kernel size 5x5, reLu activation, stride=1, no padding\n",
    "###### b. max pooling layer size 2x2\n",
    "###### c. fully connected layer, 100 neurons reLu activation\n",
    "###### d. output layer: n neurons (depending on task), using softmax activation"
   ]
  },
  {
   "cell_type": "code",
   "execution_count": null,
   "id": "2c484af9",
   "metadata": {},
   "outputs": [],
   "source": [
    "# cmodel = Sequential()\n",
    "# cmodel.add(layers.Conv2D(filters=40, kernel_size=(5,5), activation='relu', input_shape=(32,32,1), strides=1, padding='valid'))\n",
    "# cmodel.add(layers.MaxPooling2D(pool_size=2, strides=2, padding='valid'))\n",
    "# cmodel.add(layers.Dense(100, activation='relu'))\n",
    "# #find n for the task\n",
    "# cmodel.add(layers.Dense(n, activation='softmax'))"
   ]
  },
  {
   "cell_type": "markdown",
   "id": "ad7cc226",
   "metadata": {},
   "source": [
    "### Task 2, Classification Task A: Gender"
   ]
  },
  {
   "cell_type": "code",
   "execution_count": null,
   "id": "53d32bba",
   "metadata": {},
   "outputs": [],
   "source": [
    "# classify gender\n",
    "camodel = Sequential()\n",
    "camodel.add(layers.Conv2D(filters=40, kernel_size=(5,5), activation='relu', input_shape=(32,32,1), strides=1, padding='valid'))\n",
    "camodel.add(layers.MaxPooling2D(pool_size=2, strides=2, padding='valid'))\n",
    "camodel.add(layers.Flatten())\n",
    "camodel.add(layers.Dense(100, activation='relu'))\n",
    "n = 2\n",
    "camodel.add(layers.Dense(n, activation='softmax'))\n",
    "\n",
    "opt = keras.optimizers.SGD(learning_rate=0.01)\n",
    "camodel.compile(\n",
    "    optimizer=opt,\n",
    "    loss='categorical_crossentropy',\n",
    "    metrics=['accuracy']\n",
    ")\n",
    "\n",
    "logdir = os.path.join(\"logs\", datetime.datetime.now().strftime(\"%Y%m%d-%H%M%S_Task2Genders\"))\n",
    "tensorboard_callback = keras.callbacks.TensorBoard(logdir, histogram_freq=1)\n",
    "\n",
    "camodel.fit(training_images, genders, epochs=50, batch_size=10, validation_data=(testing_images, gendersVal), callbacks=[tensorboard_callback])"
   ]
  },
  {
   "cell_type": "markdown",
   "id": "dae85b92",
   "metadata": {},
   "source": [
    "### Task 2, Classification Task B: Race"
   ]
  },
  {
   "cell_type": "code",
   "execution_count": null,
   "id": "faa30e11",
   "metadata": {},
   "outputs": [],
   "source": [
    "# classify race\n",
    "cbmodel = Sequential()\n",
    "cbmodel.add(layers.Conv2D(filters=40, kernel_size=(5,5), activation='relu', input_shape=(32,32,1), strides=1, padding='valid'))\n",
    "cbmodel.add(layers.MaxPooling2D(pool_size=2, strides=2, padding='valid'))\n",
    "cbmodel.add(layers.Flatten())\n",
    "cbmodel.add(layers.Dense(100, activation='relu'))\n",
    "n = numRaces\n",
    "cbmodel.add(layers.Dense(n, activation='softmax'))\n",
    "\n",
    "opt = keras.optimizers.SGD(learning_rate=0.01)\n",
    "cbmodel.compile(\n",
    "    optimizer=opt,\n",
    "    loss='categorical_crossentropy',\n",
    "    metrics=['accuracy']\n",
    ")\n",
    "\n",
    "logdir = os.path.join(\"logs\", datetime.datetime.now().strftime(\"%Y%m%d-%H%M%S_Task2Races\"))\n",
    "tensorboard_callback = keras.callbacks.TensorBoard(logdir, histogram_freq=1)\n",
    "\n",
    "cbmodel.fit(training_images, races, epochs=50, batch_size=10, validation_data=(testing_images, racesVal), callbacks=[tensorboard_callback])"
   ]
  },
  {
   "cell_type": "markdown",
   "id": "45dad2a4",
   "metadata": {},
   "source": [
    "## Task 3: Our own Convolutional Network\n",
    "### Can we build our own network architecture to do better than either cmodel?"
   ]
  },
  {
   "cell_type": "code",
   "execution_count": null,
   "id": "28b5d477",
   "metadata": {},
   "outputs": [],
   "source": []
  },
  {
   "cell_type": "markdown",
   "id": "95e07807",
   "metadata": {},
   "source": [
    "### Classification Task A: Gender"
   ]
  },
  {
   "cell_type": "code",
   "execution_count": 31,
   "id": "71be6b63",
   "metadata": {},
   "outputs": [
    {
     "name": "stdout",
     "output_type": "stream",
     "text": [
      "Epoch 1/50\n",
      "20/20 [==============================] - 1s 19ms/step - loss: 0.6936 - accuracy: 0.5176 - val_loss: 0.6926 - val_accuracy: 0.5306\n",
      "Epoch 2/50\n",
      "20/20 [==============================] - 0s 15ms/step - loss: 0.6906 - accuracy: 0.5930 - val_loss: 0.6917 - val_accuracy: 0.5918\n",
      "Epoch 3/50\n",
      "20/20 [==============================] - 0s 12ms/step - loss: 0.6907 - accuracy: 0.5126 - val_loss: 0.6904 - val_accuracy: 0.5714\n",
      "Epoch 4/50\n",
      "20/20 [==============================] - 0s 12ms/step - loss: 0.6894 - accuracy: 0.5528 - val_loss: 0.6897 - val_accuracy: 0.5714\n",
      "Epoch 5/50\n",
      "20/20 [==============================] - 0s 12ms/step - loss: 0.6874 - accuracy: 0.5377 - val_loss: 0.6889 - val_accuracy: 0.5714\n",
      "Epoch 6/50\n",
      "20/20 [==============================] - 0s 12ms/step - loss: 0.6859 - accuracy: 0.5879 - val_loss: 0.6886 - val_accuracy: 0.5510\n",
      "Epoch 7/50\n",
      "20/20 [==============================] - 0s 13ms/step - loss: 0.6839 - accuracy: 0.5678 - val_loss: 0.6879 - val_accuracy: 0.5510\n",
      "Epoch 8/50\n",
      "20/20 [==============================] - 0s 13ms/step - loss: 0.6822 - accuracy: 0.6181 - val_loss: 0.6889 - val_accuracy: 0.5714\n",
      "Epoch 9/50\n",
      "20/20 [==============================] - 0s 11ms/step - loss: 0.6827 - accuracy: 0.5477 - val_loss: 0.6864 - val_accuracy: 0.5714\n",
      "Epoch 10/50\n",
      "20/20 [==============================] - 0s 12ms/step - loss: 0.6808 - accuracy: 0.6181 - val_loss: 0.6868 - val_accuracy: 0.5510\n",
      "Epoch 11/50\n",
      "20/20 [==============================] - 0s 12ms/step - loss: 0.6790 - accuracy: 0.6181 - val_loss: 0.6848 - val_accuracy: 0.5510\n",
      "Epoch 12/50\n",
      "20/20 [==============================] - 0s 14ms/step - loss: 0.6795 - accuracy: 0.6432 - val_loss: 0.6849 - val_accuracy: 0.5714\n",
      "Epoch 13/50\n",
      "20/20 [==============================] - 0s 11ms/step - loss: 0.6777 - accuracy: 0.6131 - val_loss: 0.6852 - val_accuracy: 0.5510\n",
      "Epoch 14/50\n",
      "20/20 [==============================] - 0s 13ms/step - loss: 0.6770 - accuracy: 0.6231 - val_loss: 0.6842 - val_accuracy: 0.5714\n",
      "Epoch 15/50\n",
      "20/20 [==============================] - 0s 11ms/step - loss: 0.6738 - accuracy: 0.6382 - val_loss: 0.6846 - val_accuracy: 0.5510\n",
      "Epoch 16/50\n",
      "20/20 [==============================] - 0s 14ms/step - loss: 0.6735 - accuracy: 0.6231 - val_loss: 0.6843 - val_accuracy: 0.5510\n",
      "Epoch 17/50\n",
      "20/20 [==============================] - 0s 10ms/step - loss: 0.6695 - accuracy: 0.6432 - val_loss: 0.6832 - val_accuracy: 0.5510\n",
      "Epoch 18/50\n",
      "20/20 [==============================] - 0s 12ms/step - loss: 0.6700 - accuracy: 0.6281 - val_loss: 0.6817 - val_accuracy: 0.5714\n",
      "Epoch 19/50\n",
      "20/20 [==============================] - 0s 13ms/step - loss: 0.6660 - accuracy: 0.6231 - val_loss: 0.6846 - val_accuracy: 0.5306\n",
      "Epoch 20/50\n",
      "20/20 [==============================] - 0s 13ms/step - loss: 0.6661 - accuracy: 0.6030 - val_loss: 0.6804 - val_accuracy: 0.5510\n",
      "Epoch 21/50\n",
      "20/20 [==============================] - 0s 11ms/step - loss: 0.6583 - accuracy: 0.6131 - val_loss: 0.6802 - val_accuracy: 0.5714\n",
      "Epoch 22/50\n",
      "20/20 [==============================] - 0s 10ms/step - loss: 0.6655 - accuracy: 0.6231 - val_loss: 0.6809 - val_accuracy: 0.5510\n",
      "Epoch 23/50\n",
      "20/20 [==============================] - 0s 12ms/step - loss: 0.6611 - accuracy: 0.6030 - val_loss: 0.6794 - val_accuracy: 0.5714\n",
      "Epoch 24/50\n",
      "20/20 [==============================] - 0s 13ms/step - loss: 0.6624 - accuracy: 0.6181 - val_loss: 0.6782 - val_accuracy: 0.5510\n",
      "Epoch 25/50\n",
      "20/20 [==============================] - 0s 14ms/step - loss: 0.6536 - accuracy: 0.6382 - val_loss: 0.6828 - val_accuracy: 0.5714\n",
      "Epoch 26/50\n",
      "20/20 [==============================] - 0s 14ms/step - loss: 0.6520 - accuracy: 0.6382 - val_loss: 0.6842 - val_accuracy: 0.5510\n",
      "Epoch 27/50\n",
      "20/20 [==============================] - 0s 15ms/step - loss: 0.6529 - accuracy: 0.6382 - val_loss: 0.6792 - val_accuracy: 0.5714\n",
      "Epoch 28/50\n",
      "20/20 [==============================] - 0s 12ms/step - loss: 0.6471 - accuracy: 0.6281 - val_loss: 0.6779 - val_accuracy: 0.5714\n",
      "Epoch 29/50\n",
      "20/20 [==============================] - 0s 11ms/step - loss: 0.6550 - accuracy: 0.5829 - val_loss: 0.6796 - val_accuracy: 0.5510\n",
      "Epoch 30/50\n",
      "20/20 [==============================] - 0s 11ms/step - loss: 0.6511 - accuracy: 0.6080 - val_loss: 0.6801 - val_accuracy: 0.5510\n",
      "Epoch 31/50\n",
      "20/20 [==============================] - 0s 12ms/step - loss: 0.6496 - accuracy: 0.6332 - val_loss: 0.6805 - val_accuracy: 0.5510\n",
      "Epoch 32/50\n",
      "20/20 [==============================] - 0s 10ms/step - loss: 0.6493 - accuracy: 0.6382 - val_loss: 0.6823 - val_accuracy: 0.5306\n",
      "Epoch 33/50\n",
      "20/20 [==============================] - 0s 11ms/step - loss: 0.6459 - accuracy: 0.6482 - val_loss: 0.6794 - val_accuracy: 0.5918\n",
      "Epoch 34/50\n",
      "20/20 [==============================] - 0s 13ms/step - loss: 0.6398 - accuracy: 0.6583 - val_loss: 0.6801 - val_accuracy: 0.5714\n",
      "Epoch 35/50\n",
      "20/20 [==============================] - 0s 12ms/step - loss: 0.6340 - accuracy: 0.6533 - val_loss: 0.6851 - val_accuracy: 0.5510\n",
      "Epoch 36/50\n",
      "20/20 [==============================] - 0s 11ms/step - loss: 0.6377 - accuracy: 0.6131 - val_loss: 0.6808 - val_accuracy: 0.5918\n",
      "Epoch 37/50\n",
      "20/20 [==============================] - 0s 11ms/step - loss: 0.6391 - accuracy: 0.6784 - val_loss: 0.6822 - val_accuracy: 0.5714\n",
      "Epoch 38/50\n",
      "20/20 [==============================] - 0s 10ms/step - loss: 0.6194 - accuracy: 0.6382 - val_loss: 0.7024 - val_accuracy: 0.5510\n",
      "Epoch 39/50\n",
      "20/20 [==============================] - 0s 13ms/step - loss: 0.6291 - accuracy: 0.6482 - val_loss: 0.7014 - val_accuracy: 0.5510\n",
      "Epoch 40/50\n",
      "20/20 [==============================] - 0s 13ms/step - loss: 0.6257 - accuracy: 0.6382 - val_loss: 0.6860 - val_accuracy: 0.5918\n",
      "Epoch 41/50\n",
      "20/20 [==============================] - 0s 11ms/step - loss: 0.6243 - accuracy: 0.6482 - val_loss: 0.7075 - val_accuracy: 0.5510\n",
      "Epoch 42/50\n",
      "20/20 [==============================] - 0s 11ms/step - loss: 0.6278 - accuracy: 0.6533 - val_loss: 0.7005 - val_accuracy: 0.5510\n",
      "Epoch 43/50\n",
      "20/20 [==============================] - 0s 11ms/step - loss: 0.6116 - accuracy: 0.6030 - val_loss: 0.6917 - val_accuracy: 0.5918\n",
      "Epoch 44/50\n",
      "20/20 [==============================] - 0s 12ms/step - loss: 0.6192 - accuracy: 0.6633 - val_loss: 0.6973 - val_accuracy: 0.5306\n",
      "Epoch 45/50\n",
      "20/20 [==============================] - 0s 11ms/step - loss: 0.6098 - accuracy: 0.6633 - val_loss: 0.6955 - val_accuracy: 0.6122\n",
      "Epoch 46/50\n",
      "20/20 [==============================] - 0s 11ms/step - loss: 0.6112 - accuracy: 0.7035 - val_loss: 0.6979 - val_accuracy: 0.5714\n",
      "Epoch 47/50\n",
      "20/20 [==============================] - 0s 12ms/step - loss: 0.6034 - accuracy: 0.6884 - val_loss: 0.7206 - val_accuracy: 0.5306\n",
      "Epoch 48/50\n",
      "20/20 [==============================] - 0s 12ms/step - loss: 0.6079 - accuracy: 0.6382 - val_loss: 0.6976 - val_accuracy: 0.5918\n",
      "Epoch 49/50\n",
      "20/20 [==============================] - 0s 11ms/step - loss: 0.6056 - accuracy: 0.6734 - val_loss: 0.6986 - val_accuracy: 0.5918\n",
      "Epoch 50/50\n",
      "20/20 [==============================] - 0s 11ms/step - loss: 0.6014 - accuracy: 0.6683 - val_loss: 0.7104 - val_accuracy: 0.5714\n"
     ]
    },
    {
     "data": {
      "text/plain": [
       "<keras.callbacks.History at 0x20dc38d36d0>"
      ]
     },
     "execution_count": 31,
     "metadata": {},
     "output_type": "execute_result"
    }
   ],
   "source": [
    "# classify gender\n",
    "task3amodel = Sequential()\n",
    "task3amodel.add(layers.Conv2D(filters=50, kernel_size=(7,7), activation='relu', input_shape=(32,32,1), strides=1, padding='same'))\n",
    "task3amodel.add(layers.MaxPooling2D(pool_size=2, strides=2, padding='valid'))\n",
    "task3amodel.add(layers.Conv2D(filters=100, kernel_size=(3,3), activation='relu', strides=1, padding='valid'))\n",
    "task3amodel.add(layers.Flatten())\n",
    "task3amodel.add(layers.Dense(256, activation='relu'))\n",
    "#task3amodel.add(layers.Dense(128, activation='relu'))\n",
    "task3amodel.add(layers.Dense(64, activation='relu'))\n",
    "\n",
    "n = 2\n",
    "task3amodel.add(layers.Dense(n, activation='softmax'))\n",
    "\n",
    "opt = keras.optimizers.SGD(learning_rate=0.01)\n",
    "task3amodel.compile(\n",
    "    optimizer=opt,\n",
    "    loss='categorical_crossentropy',\n",
    "    metrics=['accuracy']\n",
    ")\n",
    "\n",
    "logdir = os.path.join(\"logs\", datetime.datetime.now().strftime(\"%Y%m%d-%H%M%S_Task3Genders\"))\n",
    "tensorboard_callback = keras.callbacks.TensorBoard(logdir, histogram_freq=1)\n",
    "\n",
    "task3amodel.fit(training_images, genders, epochs=50, batch_size=10, validation_data=(testing_images, gendersVal), callbacks=[tensorboard_callback])"
   ]
  },
  {
   "cell_type": "markdown",
   "id": "e5810a65",
   "metadata": {},
   "source": [
    "### Classification Task B: Race"
   ]
  },
  {
   "cell_type": "code",
   "execution_count": null,
   "id": "d74006b3",
   "metadata": {},
   "outputs": [],
   "source": [
    "# classify race\n",
    "cbmodel = Sequential()\n",
    "cbmodel.add(layers.Conv2D(filters=50, kernel_size=(7,7), activation='relu', input_shape=(32,32,1), strides=1, padding='same'))\n",
    "cbmodel.add(layers.MaxPooling2D(pool_size=2, strides=2, padding='valid'))\n",
    "cbmodel.add(layers.Conv2D(filters=50, kernel_size=(3,3), activation='relu', strides=1, padding='valid'))\n",
    "cbmodel.add(layers.Flatten())\n",
    "cbmodel.add(layers.Dense(120, activation='relu'))\n",
    "\n",
    "n = numRaces\n",
    "cbmodel.add(layers.Dense(n, activation='softmax'))\n",
    "\n",
    "opt = keras.optimizers.SGD(learning_rate=0.01)\n",
    "cbmodel.compile(\n",
    "    optimizer=opt,\n",
    "    loss='categorical_crossentropy',\n",
    "    metrics=['accuracy']\n",
    ")\n",
    "\n",
    "logdir = os.path.join(\"logs\", datetime.datetime.now().strftime(\"%Y%m%d-%H%M%S_Task3Races\"))\n",
    "tensorboard_callback = keras.callbacks.TensorBoard(logdir, histogram_freq=1)\n",
    "\n",
    "cbmodel.fit(training_images, races, epochs=50, batch_size=10, validation_data=(testing_images, racesVal), callbacks=[tensorboard_callback])"
   ]
  },
  {
   "cell_type": "markdown",
   "id": "7011c209",
   "metadata": {},
   "source": [
    "## Task 4: Our own Convolutional Network to do both classifications simultaneously\n",
    "### We can't use Sequential() for this one"
   ]
  },
  {
   "cell_type": "code",
   "execution_count": null,
   "id": "b81a81d3",
   "metadata": {},
   "outputs": [
    {
     "name": "stdout",
     "output_type": "stream",
     "text": [
      "Model: \"task4_model\"\n",
      "__________________________________________________________________________________________________\n",
      " Layer (type)                   Output Shape         Param #     Connected to                     \n",
      "==================================================================================================\n",
      " input_3 (InputLayer)           [(None, 32, 32, 1)]  0           []                               \n",
      "                                                                                                  \n",
      " conv2d (Conv2D)                (None, 32, 32, 50)   2500        ['input_3[0][0]']                \n",
      "                                                                                                  \n",
      " max_pooling2d (MaxPooling2D)   (None, 16, 16, 50)   0           ['conv2d[0][0]']                 \n",
      "                                                                                                  \n",
      " conv2d_1 (Conv2D)              (None, 14, 14, 100)  45100       ['max_pooling2d[0][0]']          \n",
      "                                                                                                  \n",
      " flatten_2 (Flatten)            (None, 19600)        0           ['conv2d_1[0][0]']               \n",
      "                                                                                                  \n",
      " dense_8 (Dense)                (None, 100)          1960100     ['flatten_2[0][0]']              \n",
      "                                                                                                  \n",
      " dense_9 (Dense)                (None, 100)          1960100     ['flatten_2[0][0]']              \n",
      "                                                                                                  \n",
      " gender (Dense)                 (None, 2)            202         ['dense_8[0][0]']                \n",
      "                                                                                                  \n",
      " race (Dense)                   (None, 7)            707         ['dense_9[0][0]']                \n",
      "                                                                                                  \n",
      "==================================================================================================\n",
      "Total params: 3,968,709\n",
      "Trainable params: 3,968,709\n",
      "Non-trainable params: 0\n",
      "__________________________________________________________________________________________________\n",
      "None\n",
      "Epoch 1/50\n",
      "20/20 [==============================] - 2s 73ms/step - loss: 2.6359 - gender_loss: 0.6962 - race_loss: 1.9397 - gender_accuracy: 0.4623 - race_accuracy: 0.1558 - val_loss: 2.6128 - val_gender_loss: 0.6928 - val_race_loss: 1.9200 - val_gender_accuracy: 0.5102 - val_race_accuracy: 0.2041\n",
      "Epoch 2/50\n",
      "20/20 [==============================] - 1s 58ms/step - loss: 2.6125 - gender_loss: 0.6942 - race_loss: 1.9183 - gender_accuracy: 0.5075 - race_accuracy: 0.2161 - val_loss: 2.6072 - val_gender_loss: 0.6903 - val_race_loss: 1.9169 - val_gender_accuracy: 0.5714 - val_race_accuracy: 0.2041\n",
      "Epoch 3/50\n",
      "20/20 [==============================] - 1s 55ms/step - loss: 2.5962 - gender_loss: 0.6876 - race_loss: 1.9085 - gender_accuracy: 0.5930 - race_accuracy: 0.2161 - val_loss: 2.6103 - val_gender_loss: 0.6920 - val_race_loss: 1.9183 - val_gender_accuracy: 0.5306 - val_race_accuracy: 0.2041\n",
      "Epoch 4/50\n",
      "20/20 [==============================] - 1s 52ms/step - loss: 2.5877 - gender_loss: 0.6857 - race_loss: 1.9020 - gender_accuracy: 0.5327 - race_accuracy: 0.2161 - val_loss: 2.6033 - val_gender_loss: 0.6878 - val_race_loss: 1.9155 - val_gender_accuracy: 0.5714 - val_race_accuracy: 0.2041\n",
      "Epoch 5/50\n",
      "20/20 [==============================] - 1s 52ms/step - loss: 2.5726 - gender_loss: 0.6810 - race_loss: 1.8917 - gender_accuracy: 0.5578 - race_accuracy: 0.2161 - val_loss: 2.6044 - val_gender_loss: 0.6866 - val_race_loss: 1.9178 - val_gender_accuracy: 0.5102 - val_race_accuracy: 0.2041\n",
      "Epoch 6/50\n",
      "20/20 [==============================] - 1s 55ms/step - loss: 2.5753 - gender_loss: 0.6825 - race_loss: 1.8928 - gender_accuracy: 0.5678 - race_accuracy: 0.2261 - val_loss: 2.5935 - val_gender_loss: 0.6867 - val_race_loss: 1.9068 - val_gender_accuracy: 0.5918 - val_race_accuracy: 0.2041\n",
      "Epoch 7/50\n",
      "20/20 [==============================] - 1s 55ms/step - loss: 2.5546 - gender_loss: 0.6704 - race_loss: 1.8842 - gender_accuracy: 0.6181 - race_accuracy: 0.2211 - val_loss: 2.6056 - val_gender_loss: 0.6843 - val_race_loss: 1.9213 - val_gender_accuracy: 0.5714 - val_race_accuracy: 0.1837\n",
      "Epoch 8/50\n",
      "20/20 [==============================] - 1s 61ms/step - loss: 2.5429 - gender_loss: 0.6644 - race_loss: 1.8785 - gender_accuracy: 0.6181 - race_accuracy: 0.2261 - val_loss: 2.6060 - val_gender_loss: 0.6951 - val_race_loss: 1.9108 - val_gender_accuracy: 0.4490 - val_race_accuracy: 0.1837\n",
      "Epoch 9/50\n",
      "19/20 [===========================>..] - ETA: 0s - loss: 2.5394 - gender_loss: 0.6686 - race_loss: 1.8708 - gender_accuracy: 0.6211 - race_accuracy: 0.2368"
     ]
    },
    {
     "ename": "KeyboardInterrupt",
     "evalue": "",
     "output_type": "error",
     "traceback": [
      "\u001b[1;31m---------------------------------------------------------------------------\u001b[0m",
      "\u001b[1;31mKeyboardInterrupt\u001b[0m                         Traceback (most recent call last)",
      "Cell \u001b[1;32mIn[9], line 24\u001b[0m\n\u001b[0;32m     21\u001b[0m logdir \u001b[39m=\u001b[39m os\u001b[39m.\u001b[39mpath\u001b[39m.\u001b[39mjoin(\u001b[39m\"\u001b[39m\u001b[39mlogs\u001b[39m\u001b[39m\"\u001b[39m, datetime\u001b[39m.\u001b[39mdatetime\u001b[39m.\u001b[39mnow()\u001b[39m.\u001b[39mstrftime(\u001b[39m\"\u001b[39m\u001b[39m%\u001b[39m\u001b[39mY\u001b[39m\u001b[39m%\u001b[39m\u001b[39mm\u001b[39m\u001b[39m%d\u001b[39;00m\u001b[39m-\u001b[39m\u001b[39m%\u001b[39m\u001b[39mH\u001b[39m\u001b[39m%\u001b[39m\u001b[39mM\u001b[39m\u001b[39m%\u001b[39m\u001b[39mS_Task4\u001b[39m\u001b[39m\"\u001b[39m))\n\u001b[0;32m     22\u001b[0m tensorboard_callback \u001b[39m=\u001b[39m keras\u001b[39m.\u001b[39mcallbacks\u001b[39m.\u001b[39mTensorBoard(logdir, histogram_freq\u001b[39m=\u001b[39m\u001b[39m1\u001b[39m)\n\u001b[1;32m---> 24\u001b[0m task4model\u001b[39m.\u001b[39;49mfit(training_images, {\u001b[39m\"\u001b[39;49m\u001b[39mgender\u001b[39;49m\u001b[39m\"\u001b[39;49m:genders,\u001b[39m\"\u001b[39;49m\u001b[39mrace\u001b[39;49m\u001b[39m\"\u001b[39;49m:races}, epochs\u001b[39m=\u001b[39;49m\u001b[39m50\u001b[39;49m, batch_size\u001b[39m=\u001b[39;49m\u001b[39m10\u001b[39;49m, validation_data\u001b[39m=\u001b[39;49m(testing_images, {\u001b[39m\"\u001b[39;49m\u001b[39mgender\u001b[39;49m\u001b[39m\"\u001b[39;49m:gendersVal,\u001b[39m\"\u001b[39;49m\u001b[39mrace\u001b[39;49m\u001b[39m\"\u001b[39;49m:racesVal}), callbacks\u001b[39m=\u001b[39;49m[tensorboard_callback])\n",
      "File \u001b[1;32mc:\\Users\\skoprowi\\AppData\\Local\\Programs\\Python\\Python311\\Lib\\site-packages\\keras\\utils\\traceback_utils.py:65\u001b[0m, in \u001b[0;36mfilter_traceback.<locals>.error_handler\u001b[1;34m(*args, **kwargs)\u001b[0m\n\u001b[0;32m     63\u001b[0m filtered_tb \u001b[39m=\u001b[39m \u001b[39mNone\u001b[39;00m\n\u001b[0;32m     64\u001b[0m \u001b[39mtry\u001b[39;00m:\n\u001b[1;32m---> 65\u001b[0m     \u001b[39mreturn\u001b[39;00m fn(\u001b[39m*\u001b[39;49margs, \u001b[39m*\u001b[39;49m\u001b[39m*\u001b[39;49mkwargs)\n\u001b[0;32m     66\u001b[0m \u001b[39mexcept\u001b[39;00m \u001b[39mException\u001b[39;00m \u001b[39mas\u001b[39;00m e:\n\u001b[0;32m     67\u001b[0m     filtered_tb \u001b[39m=\u001b[39m _process_traceback_frames(e\u001b[39m.\u001b[39m__traceback__)\n",
      "File \u001b[1;32mc:\\Users\\skoprowi\\AppData\\Local\\Programs\\Python\\Python311\\Lib\\site-packages\\keras\\engine\\training.py:1747\u001b[0m, in \u001b[0;36mModel.fit\u001b[1;34m(self, x, y, batch_size, epochs, verbose, callbacks, validation_split, validation_data, shuffle, class_weight, sample_weight, initial_epoch, steps_per_epoch, validation_steps, validation_batch_size, validation_freq, max_queue_size, workers, use_multiprocessing)\u001b[0m\n\u001b[0;32m   1742\u001b[0m     val_logs \u001b[39m=\u001b[39m {\n\u001b[0;32m   1743\u001b[0m         \u001b[39m\"\u001b[39m\u001b[39mval_\u001b[39m\u001b[39m\"\u001b[39m \u001b[39m+\u001b[39m name: val \u001b[39mfor\u001b[39;00m name, val \u001b[39min\u001b[39;00m val_logs\u001b[39m.\u001b[39mitems()\n\u001b[0;32m   1744\u001b[0m     }\n\u001b[0;32m   1745\u001b[0m     epoch_logs\u001b[39m.\u001b[39mupdate(val_logs)\n\u001b[1;32m-> 1747\u001b[0m callbacks\u001b[39m.\u001b[39;49mon_epoch_end(epoch, epoch_logs)\n\u001b[0;32m   1748\u001b[0m training_logs \u001b[39m=\u001b[39m epoch_logs\n\u001b[0;32m   1749\u001b[0m \u001b[39mif\u001b[39;00m \u001b[39mself\u001b[39m\u001b[39m.\u001b[39mstop_training:\n",
      "File \u001b[1;32mc:\\Users\\skoprowi\\AppData\\Local\\Programs\\Python\\Python311\\Lib\\site-packages\\keras\\callbacks.py:453\u001b[0m, in \u001b[0;36mCallbackList.on_epoch_end\u001b[1;34m(self, epoch, logs)\u001b[0m\n\u001b[0;32m    451\u001b[0m logs \u001b[39m=\u001b[39m \u001b[39mself\u001b[39m\u001b[39m.\u001b[39m_process_logs(logs)\n\u001b[0;32m    452\u001b[0m \u001b[39mfor\u001b[39;00m callback \u001b[39min\u001b[39;00m \u001b[39mself\u001b[39m\u001b[39m.\u001b[39mcallbacks:\n\u001b[1;32m--> 453\u001b[0m     callback\u001b[39m.\u001b[39;49mon_epoch_end(epoch, logs)\n",
      "File \u001b[1;32mc:\\Users\\skoprowi\\AppData\\Local\\Programs\\Python\\Python311\\Lib\\site-packages\\keras\\callbacks.py:2821\u001b[0m, in \u001b[0;36mTensorBoard.on_epoch_end\u001b[1;34m(self, epoch, logs)\u001b[0m\n\u001b[0;32m   2818\u001b[0m \u001b[39mself\u001b[39m\u001b[39m.\u001b[39m_log_epoch_metrics(epoch, logs)\n\u001b[0;32m   2820\u001b[0m \u001b[39mif\u001b[39;00m \u001b[39mself\u001b[39m\u001b[39m.\u001b[39mhistogram_freq \u001b[39mand\u001b[39;00m epoch \u001b[39m%\u001b[39m \u001b[39mself\u001b[39m\u001b[39m.\u001b[39mhistogram_freq \u001b[39m==\u001b[39m \u001b[39m0\u001b[39m:\n\u001b[1;32m-> 2821\u001b[0m     \u001b[39mself\u001b[39;49m\u001b[39m.\u001b[39;49m_log_weights(epoch)\n\u001b[0;32m   2823\u001b[0m \u001b[39mif\u001b[39;00m \u001b[39mself\u001b[39m\u001b[39m.\u001b[39membeddings_freq \u001b[39mand\u001b[39;00m epoch \u001b[39m%\u001b[39m \u001b[39mself\u001b[39m\u001b[39m.\u001b[39membeddings_freq \u001b[39m==\u001b[39m \u001b[39m0\u001b[39m:\n\u001b[0;32m   2824\u001b[0m     \u001b[39mself\u001b[39m\u001b[39m.\u001b[39m_log_embeddings(epoch)\n",
      "File \u001b[1;32mc:\\Users\\skoprowi\\AppData\\Local\\Programs\\Python\\Python311\\Lib\\site-packages\\keras\\callbacks.py:2895\u001b[0m, in \u001b[0;36mTensorBoard._log_weights\u001b[1;34m(self, epoch)\u001b[0m\n\u001b[0;32m   2893\u001b[0m \u001b[39m# Add a suffix to prevent summary tag name collision.\u001b[39;00m\n\u001b[0;32m   2894\u001b[0m histogram_weight_name \u001b[39m=\u001b[39m weight_name \u001b[39m+\u001b[39m \u001b[39m\"\u001b[39m\u001b[39m/histogram\u001b[39m\u001b[39m\"\u001b[39m\n\u001b[1;32m-> 2895\u001b[0m tf\u001b[39m.\u001b[39;49msummary\u001b[39m.\u001b[39;49mhistogram(\n\u001b[0;32m   2896\u001b[0m     histogram_weight_name, weight, step\u001b[39m=\u001b[39;49mepoch\n\u001b[0;32m   2897\u001b[0m )\n\u001b[0;32m   2898\u001b[0m \u001b[39mif\u001b[39;00m \u001b[39mself\u001b[39m\u001b[39m.\u001b[39mwrite_images:\n\u001b[0;32m   2899\u001b[0m     \u001b[39m# Add a suffix to prevent summary tag name\u001b[39;00m\n\u001b[0;32m   2900\u001b[0m     \u001b[39m# collision.\u001b[39;00m\n\u001b[0;32m   2901\u001b[0m     image_weight_name \u001b[39m=\u001b[39m weight_name \u001b[39m+\u001b[39m \u001b[39m\"\u001b[39m\u001b[39m/image\u001b[39m\u001b[39m\"\u001b[39m\n",
      "File \u001b[1;32mc:\\Users\\skoprowi\\AppData\\Local\\Programs\\Python\\Python311\\Lib\\site-packages\\tensorboard\\plugins\\histogram\\summary_v2.py:196\u001b[0m, in \u001b[0;36mhistogram\u001b[1;34m(name, data, step, buckets, description)\u001b[0m\n\u001b[0;32m    192\u001b[0m \u001b[39m@lazy_tensor_creator\u001b[39m\u001b[39m.\u001b[39mLazyTensorCreator\n\u001b[0;32m    193\u001b[0m \u001b[39mdef\u001b[39;00m \u001b[39mlazy_tensor\u001b[39m():\n\u001b[0;32m    194\u001b[0m     \u001b[39mreturn\u001b[39;00m _buckets(data, buckets)\n\u001b[1;32m--> 196\u001b[0m \u001b[39mreturn\u001b[39;00m tf\u001b[39m.\u001b[39;49msummary\u001b[39m.\u001b[39;49mwrite(\n\u001b[0;32m    197\u001b[0m     tag\u001b[39m=\u001b[39;49mtag,\n\u001b[0;32m    198\u001b[0m     tensor\u001b[39m=\u001b[39;49mlazy_tensor,\n\u001b[0;32m    199\u001b[0m     step\u001b[39m=\u001b[39;49mstep,\n\u001b[0;32m    200\u001b[0m     metadata\u001b[39m=\u001b[39;49msummary_metadata,\n\u001b[0;32m    201\u001b[0m )\n",
      "File \u001b[1;32mc:\\Users\\skoprowi\\AppData\\Local\\Programs\\Python\\Python311\\Lib\\site-packages\\tensorflow\\python\\ops\\summary_ops_v2.py:769\u001b[0m, in \u001b[0;36mwrite\u001b[1;34m(tag, tensor, step, metadata, name)\u001b[0m\n\u001b[0;32m    766\u001b[0m     \u001b[39mwith\u001b[39;00m ops\u001b[39m.\u001b[39mcontrol_dependencies([write_summary_op]):\n\u001b[0;32m    767\u001b[0m       \u001b[39mreturn\u001b[39;00m constant_op\u001b[39m.\u001b[39mconstant(\u001b[39mTrue\u001b[39;00m)\n\u001b[1;32m--> 769\u001b[0m op \u001b[39m=\u001b[39m smart_cond\u001b[39m.\u001b[39;49msmart_cond(\n\u001b[0;32m    770\u001b[0m     should_record_summaries(), record, _nothing, name\u001b[39m=\u001b[39;49m\u001b[39m\"\u001b[39;49m\u001b[39msummary_cond\u001b[39;49m\u001b[39m\"\u001b[39;49m)\n\u001b[0;32m    771\u001b[0m \u001b[39mif\u001b[39;00m \u001b[39mnot\u001b[39;00m context\u001b[39m.\u001b[39mexecuting_eagerly():\n\u001b[0;32m    772\u001b[0m   ops\u001b[39m.\u001b[39madd_to_collection(ops\u001b[39m.\u001b[39mGraphKeys\u001b[39m.\u001b[39m_SUMMARY_COLLECTION, op)  \u001b[39m# pylint: disable=protected-access\u001b[39;00m\n",
      "File \u001b[1;32mc:\\Users\\skoprowi\\AppData\\Local\\Programs\\Python\\Python311\\Lib\\site-packages\\tensorflow\\python\\framework\\smart_cond.py:52\u001b[0m, in \u001b[0;36msmart_cond\u001b[1;34m(pred, true_fn, false_fn, name)\u001b[0m\n\u001b[0;32m     50\u001b[0m \u001b[39mif\u001b[39;00m pred_value \u001b[39mis\u001b[39;00m \u001b[39mnot\u001b[39;00m \u001b[39mNone\u001b[39;00m:\n\u001b[0;32m     51\u001b[0m   \u001b[39mif\u001b[39;00m pred_value:\n\u001b[1;32m---> 52\u001b[0m     \u001b[39mreturn\u001b[39;00m true_fn()\n\u001b[0;32m     53\u001b[0m   \u001b[39melse\u001b[39;00m:\n\u001b[0;32m     54\u001b[0m     \u001b[39mreturn\u001b[39;00m false_fn()\n",
      "File \u001b[1;32mc:\\Users\\skoprowi\\AppData\\Local\\Programs\\Python\\Python311\\Lib\\site-packages\\tensorflow\\python\\ops\\summary_ops_v2.py:757\u001b[0m, in \u001b[0;36mwrite.<locals>.record\u001b[1;34m()\u001b[0m\n\u001b[0;32m    755\u001b[0m \u001b[39m# Note the identity to move the tensor to the CPU.\u001b[39;00m\n\u001b[0;32m    756\u001b[0m \u001b[39mwith\u001b[39;00m ops\u001b[39m.\u001b[39mdevice(\u001b[39m\"\u001b[39m\u001b[39mcpu:0\u001b[39m\u001b[39m\"\u001b[39m):\n\u001b[1;32m--> 757\u001b[0m   summary_tensor \u001b[39m=\u001b[39m tensor() \u001b[39mif\u001b[39;00m callable(tensor) \u001b[39melse\u001b[39;00m array_ops\u001b[39m.\u001b[39midentity(\n\u001b[0;32m    758\u001b[0m       tensor)\n\u001b[0;32m    759\u001b[0m   write_summary_op \u001b[39m=\u001b[39m gen_summary_ops\u001b[39m.\u001b[39mwrite_summary(\n\u001b[0;32m    760\u001b[0m       _summary_state\u001b[39m.\u001b[39mwriter\u001b[39m.\u001b[39m_resource,  \u001b[39m# pylint: disable=protected-access\u001b[39;00m\n\u001b[0;32m    761\u001b[0m       step,\n\u001b[1;32m   (...)\u001b[0m\n\u001b[0;32m    764\u001b[0m       serialized_metadata,\n\u001b[0;32m    765\u001b[0m       name\u001b[39m=\u001b[39mscope)\n\u001b[0;32m    766\u001b[0m   \u001b[39mwith\u001b[39;00m ops\u001b[39m.\u001b[39mcontrol_dependencies([write_summary_op]):\n",
      "File \u001b[1;32mc:\\Users\\skoprowi\\AppData\\Local\\Programs\\Python\\Python311\\Lib\\site-packages\\tensorboard\\util\\lazy_tensor_creator.py:66\u001b[0m, in \u001b[0;36mLazyTensorCreator.__call__\u001b[1;34m(self)\u001b[0m\n\u001b[0;32m     64\u001b[0m         \u001b[39melif\u001b[39;00m \u001b[39mself\u001b[39m\u001b[39m.\u001b[39m_tensor \u001b[39mis\u001b[39;00m \u001b[39mNone\u001b[39;00m:\n\u001b[0;32m     65\u001b[0m             \u001b[39mself\u001b[39m\u001b[39m.\u001b[39m_tensor \u001b[39m=\u001b[39m _CALL_IN_PROGRESS_SENTINEL\n\u001b[1;32m---> 66\u001b[0m             \u001b[39mself\u001b[39m\u001b[39m.\u001b[39m_tensor \u001b[39m=\u001b[39m \u001b[39mself\u001b[39;49m\u001b[39m.\u001b[39;49m_tensor_callable()\n\u001b[0;32m     67\u001b[0m \u001b[39mreturn\u001b[39;00m \u001b[39mself\u001b[39m\u001b[39m.\u001b[39m_tensor\n",
      "File \u001b[1;32mc:\\Users\\skoprowi\\AppData\\Local\\Programs\\Python\\Python311\\Lib\\site-packages\\tensorboard\\plugins\\histogram\\summary_v2.py:194\u001b[0m, in \u001b[0;36mhistogram.<locals>.lazy_tensor\u001b[1;34m()\u001b[0m\n\u001b[0;32m    192\u001b[0m \u001b[39m@lazy_tensor_creator\u001b[39m\u001b[39m.\u001b[39mLazyTensorCreator\n\u001b[0;32m    193\u001b[0m \u001b[39mdef\u001b[39;00m \u001b[39mlazy_tensor\u001b[39m():\n\u001b[1;32m--> 194\u001b[0m     \u001b[39mreturn\u001b[39;00m _buckets(data, buckets)\n",
      "File \u001b[1;32mc:\\Users\\skoprowi\\AppData\\Local\\Programs\\Python\\Python311\\Lib\\site-packages\\tensorboard\\plugins\\histogram\\summary_v2.py:293\u001b[0m, in \u001b[0;36m_buckets\u001b[1;34m(data, bucket_count)\u001b[0m\n\u001b[0;32m    287\u001b[0m         \u001b[39mreturn\u001b[39;00m tf\u001b[39m.\u001b[39mtranspose(a\u001b[39m=\u001b[39mtf\u001b[39m.\u001b[39mstack([edges, edges, bucket_counts]))\n\u001b[0;32m    289\u001b[0m     \u001b[39mreturn\u001b[39;00m tf\u001b[39m.\u001b[39mcond(\n\u001b[0;32m    290\u001b[0m         has_single_value, when_single_value, when_multiple_values\n\u001b[0;32m    291\u001b[0m     )\n\u001b[1;32m--> 293\u001b[0m \u001b[39mreturn\u001b[39;00m tf\u001b[39m.\u001b[39;49mcond(is_empty, when_empty, when_nonempty)\n",
      "File \u001b[1;32mc:\\Users\\skoprowi\\AppData\\Local\\Programs\\Python\\Python311\\Lib\\site-packages\\tensorflow\\python\\util\\traceback_utils.py:150\u001b[0m, in \u001b[0;36mfilter_traceback.<locals>.error_handler\u001b[1;34m(*args, **kwargs)\u001b[0m\n\u001b[0;32m    148\u001b[0m filtered_tb \u001b[39m=\u001b[39m \u001b[39mNone\u001b[39;00m\n\u001b[0;32m    149\u001b[0m \u001b[39mtry\u001b[39;00m:\n\u001b[1;32m--> 150\u001b[0m   \u001b[39mreturn\u001b[39;00m fn(\u001b[39m*\u001b[39;49margs, \u001b[39m*\u001b[39;49m\u001b[39m*\u001b[39;49mkwargs)\n\u001b[0;32m    151\u001b[0m \u001b[39mexcept\u001b[39;00m \u001b[39mException\u001b[39;00m \u001b[39mas\u001b[39;00m e:\n\u001b[0;32m    152\u001b[0m   filtered_tb \u001b[39m=\u001b[39m _process_traceback_frames(e\u001b[39m.\u001b[39m__traceback__)\n",
      "File \u001b[1;32mc:\\Users\\skoprowi\\AppData\\Local\\Programs\\Python\\Python311\\Lib\\site-packages\\tensorflow\\python\\util\\dispatch.py:1176\u001b[0m, in \u001b[0;36madd_dispatch_support.<locals>.decorator.<locals>.op_dispatch_handler\u001b[1;34m(*args, **kwargs)\u001b[0m\n\u001b[0;32m   1174\u001b[0m \u001b[39m# Fallback dispatch system (dispatch v1):\u001b[39;00m\n\u001b[0;32m   1175\u001b[0m \u001b[39mtry\u001b[39;00m:\n\u001b[1;32m-> 1176\u001b[0m   \u001b[39mreturn\u001b[39;00m dispatch_target(\u001b[39m*\u001b[39;49margs, \u001b[39m*\u001b[39;49m\u001b[39m*\u001b[39;49mkwargs)\n\u001b[0;32m   1177\u001b[0m \u001b[39mexcept\u001b[39;00m (\u001b[39mTypeError\u001b[39;00m, \u001b[39mValueError\u001b[39;00m):\n\u001b[0;32m   1178\u001b[0m   \u001b[39m# Note: convert_to_eager_tensor currently raises a ValueError, not a\u001b[39;00m\n\u001b[0;32m   1179\u001b[0m   \u001b[39m# TypeError, when given unexpected types.  So we need to catch both.\u001b[39;00m\n\u001b[0;32m   1180\u001b[0m   result \u001b[39m=\u001b[39m dispatch(op_dispatch_handler, args, kwargs)\n",
      "File \u001b[1;32mc:\\Users\\skoprowi\\AppData\\Local\\Programs\\Python\\Python311\\Lib\\site-packages\\tensorflow\\python\\ops\\control_flow_ops.py:1427\u001b[0m, in \u001b[0;36mcond_for_tf_v2\u001b[1;34m(pred, true_fn, false_fn, name)\u001b[0m\n\u001b[0;32m   1327\u001b[0m \u001b[39m@tf_export\u001b[39m(\u001b[39m\"\u001b[39m\u001b[39mcond\u001b[39m\u001b[39m\"\u001b[39m, v1\u001b[39m=\u001b[39m[])\n\u001b[0;32m   1328\u001b[0m \u001b[39m@dispatch\u001b[39m\u001b[39m.\u001b[39madd_dispatch_support\n\u001b[0;32m   1329\u001b[0m \u001b[39mdef\u001b[39;00m \u001b[39mcond_for_tf_v2\u001b[39m(pred, true_fn\u001b[39m=\u001b[39m\u001b[39mNone\u001b[39;00m, false_fn\u001b[39m=\u001b[39m\u001b[39mNone\u001b[39;00m, name\u001b[39m=\u001b[39m\u001b[39mNone\u001b[39;00m):\n\u001b[0;32m   1330\u001b[0m \u001b[39m  \u001b[39m\u001b[39m\"\"\"Return `true_fn()` if the predicate `pred` is true else `false_fn()`.\u001b[39;00m\n\u001b[0;32m   1331\u001b[0m \n\u001b[0;32m   1332\u001b[0m \u001b[39m  Note: This op is automatically used in a `tf.function` to convert Python\u001b[39;00m\n\u001b[1;32m   (...)\u001b[0m\n\u001b[0;32m   1425\u001b[0m \n\u001b[0;32m   1426\u001b[0m \u001b[39m  \"\"\"\u001b[39;00m\n\u001b[1;32m-> 1427\u001b[0m   \u001b[39mreturn\u001b[39;00m cond(pred, true_fn\u001b[39m=\u001b[39;49mtrue_fn, false_fn\u001b[39m=\u001b[39;49mfalse_fn, strict\u001b[39m=\u001b[39;49m\u001b[39mTrue\u001b[39;49;00m, name\u001b[39m=\u001b[39;49mname)\n",
      "File \u001b[1;32mc:\\Users\\skoprowi\\AppData\\Local\\Programs\\Python\\Python311\\Lib\\site-packages\\tensorflow\\python\\util\\traceback_utils.py:150\u001b[0m, in \u001b[0;36mfilter_traceback.<locals>.error_handler\u001b[1;34m(*args, **kwargs)\u001b[0m\n\u001b[0;32m    148\u001b[0m filtered_tb \u001b[39m=\u001b[39m \u001b[39mNone\u001b[39;00m\n\u001b[0;32m    149\u001b[0m \u001b[39mtry\u001b[39;00m:\n\u001b[1;32m--> 150\u001b[0m   \u001b[39mreturn\u001b[39;00m fn(\u001b[39m*\u001b[39;49margs, \u001b[39m*\u001b[39;49m\u001b[39m*\u001b[39;49mkwargs)\n\u001b[0;32m    151\u001b[0m \u001b[39mexcept\u001b[39;00m \u001b[39mException\u001b[39;00m \u001b[39mas\u001b[39;00m e:\n\u001b[0;32m    152\u001b[0m   filtered_tb \u001b[39m=\u001b[39m _process_traceback_frames(e\u001b[39m.\u001b[39m__traceback__)\n",
      "File \u001b[1;32mc:\\Users\\skoprowi\\AppData\\Local\\Programs\\Python\\Python311\\Lib\\site-packages\\tensorflow\\python\\util\\dispatch.py:1176\u001b[0m, in \u001b[0;36madd_dispatch_support.<locals>.decorator.<locals>.op_dispatch_handler\u001b[1;34m(*args, **kwargs)\u001b[0m\n\u001b[0;32m   1174\u001b[0m \u001b[39m# Fallback dispatch system (dispatch v1):\u001b[39;00m\n\u001b[0;32m   1175\u001b[0m \u001b[39mtry\u001b[39;00m:\n\u001b[1;32m-> 1176\u001b[0m   \u001b[39mreturn\u001b[39;00m dispatch_target(\u001b[39m*\u001b[39;49margs, \u001b[39m*\u001b[39;49m\u001b[39m*\u001b[39;49mkwargs)\n\u001b[0;32m   1177\u001b[0m \u001b[39mexcept\u001b[39;00m (\u001b[39mTypeError\u001b[39;00m, \u001b[39mValueError\u001b[39;00m):\n\u001b[0;32m   1178\u001b[0m   \u001b[39m# Note: convert_to_eager_tensor currently raises a ValueError, not a\u001b[39;00m\n\u001b[0;32m   1179\u001b[0m   \u001b[39m# TypeError, when given unexpected types.  So we need to catch both.\u001b[39;00m\n\u001b[0;32m   1180\u001b[0m   result \u001b[39m=\u001b[39m dispatch(op_dispatch_handler, args, kwargs)\n",
      "File \u001b[1;32mc:\\Users\\skoprowi\\AppData\\Local\\Programs\\Python\\Python311\\Lib\\site-packages\\tensorflow\\python\\util\\deprecation.py:576\u001b[0m, in \u001b[0;36mdeprecated_args.<locals>.deprecated_wrapper.<locals>.new_func\u001b[1;34m(*args, **kwargs)\u001b[0m\n\u001b[0;32m    568\u001b[0m         _PRINTED_WARNING[(func, arg_name)] \u001b[39m=\u001b[39m \u001b[39mTrue\u001b[39;00m\n\u001b[0;32m    569\u001b[0m       logging\u001b[39m.\u001b[39mwarning(\n\u001b[0;32m    570\u001b[0m           \u001b[39m'\u001b[39m\u001b[39mFrom \u001b[39m\u001b[39m%s\u001b[39;00m\u001b[39m: calling \u001b[39m\u001b[39m%s\u001b[39;00m\u001b[39m (from \u001b[39m\u001b[39m%s\u001b[39;00m\u001b[39m) with \u001b[39m\u001b[39m%s\u001b[39;00m\u001b[39m is deprecated and will \u001b[39m\u001b[39m'\u001b[39m\n\u001b[0;32m    571\u001b[0m           \u001b[39m'\u001b[39m\u001b[39mbe removed \u001b[39m\u001b[39m%s\u001b[39;00m\u001b[39m.\u001b[39m\u001b[39m\\n\u001b[39;00m\u001b[39mInstructions for updating:\u001b[39m\u001b[39m\\n\u001b[39;00m\u001b[39m%s\u001b[39;00m\u001b[39m'\u001b[39m,\n\u001b[1;32m   (...)\u001b[0m\n\u001b[0;32m    574\u001b[0m           \u001b[39m'\u001b[39m\u001b[39min a future version\u001b[39m\u001b[39m'\u001b[39m \u001b[39mif\u001b[39;00m date \u001b[39mis\u001b[39;00m \u001b[39mNone\u001b[39;00m \u001b[39melse\u001b[39;00m (\u001b[39m'\u001b[39m\u001b[39mafter \u001b[39m\u001b[39m%s\u001b[39;00m\u001b[39m'\u001b[39m \u001b[39m%\u001b[39m date),\n\u001b[0;32m    575\u001b[0m           instructions)\n\u001b[1;32m--> 576\u001b[0m \u001b[39mreturn\u001b[39;00m func(\u001b[39m*\u001b[39;49margs, \u001b[39m*\u001b[39;49m\u001b[39m*\u001b[39;49mkwargs)\n",
      "File \u001b[1;32mc:\\Users\\skoprowi\\AppData\\Local\\Programs\\Python\\Python311\\Lib\\site-packages\\tensorflow\\python\\ops\\control_flow_ops.py:1206\u001b[0m, in \u001b[0;36mcond\u001b[1;34m(pred, true_fn, false_fn, strict, name, fn1, fn2)\u001b[0m\n\u001b[0;32m   1203\u001b[0m   \u001b[39mraise\u001b[39;00m \u001b[39mTypeError\u001b[39;00m(\u001b[39m\"\u001b[39m\u001b[39m'\u001b[39m\u001b[39mfalse_fn\u001b[39m\u001b[39m'\u001b[39m\u001b[39m must be callable.\u001b[39m\u001b[39m\"\u001b[39m)\n\u001b[0;32m   1205\u001b[0m \u001b[39mif\u001b[39;00m context\u001b[39m.\u001b[39mexecuting_eagerly():\n\u001b[1;32m-> 1206\u001b[0m   \u001b[39mreturn\u001b[39;00m _eager_cond_implementation(pred, true_fn, false_fn, strict, name)\n\u001b[0;32m   1208\u001b[0m \u001b[39m# Always enable control flow v2 if building a function, regardless of toggle.\u001b[39;00m\n\u001b[0;32m   1209\u001b[0m \u001b[39mif\u001b[39;00m util\u001b[39m.\u001b[39mEnableControlFlowV2(ops\u001b[39m.\u001b[39mget_default_graph()):\n",
      "File \u001b[1;32mc:\\Users\\skoprowi\\AppData\\Local\\Programs\\Python\\Python311\\Lib\\site-packages\\tensorflow\\python\\ops\\control_flow_ops.py:1095\u001b[0m, in \u001b[0;36m_eager_cond_implementation\u001b[1;34m(pred, true_fn, false_fn, strict, name)\u001b[0m\n\u001b[0;32m   1093\u001b[0m   result \u001b[39m=\u001b[39m true_fn()\n\u001b[0;32m   1094\u001b[0m \u001b[39melse\u001b[39;00m:\n\u001b[1;32m-> 1095\u001b[0m   result \u001b[39m=\u001b[39m false_fn()\n\u001b[0;32m   1096\u001b[0m \u001b[39mif\u001b[39;00m \u001b[39mnot\u001b[39;00m strict:\n\u001b[0;32m   1097\u001b[0m   result \u001b[39m=\u001b[39m _UnpackIfSingleton(result)\n",
      "File \u001b[1;32mc:\\Users\\skoprowi\\AppData\\Local\\Programs\\Python\\Python311\\Lib\\site-packages\\tensorboard\\plugins\\histogram\\summary_v2.py:289\u001b[0m, in \u001b[0;36m_buckets.<locals>.when_nonempty\u001b[1;34m()\u001b[0m\n\u001b[0;32m    283\u001b[0m     bucket_counts \u001b[39m=\u001b[39m tf\u001b[39m.\u001b[39mcast(\n\u001b[0;32m    284\u001b[0m         tf\u001b[39m.\u001b[39mconcat([zeroes[:\u001b[39m-\u001b[39m\u001b[39m1\u001b[39m], [data_size]], \u001b[39m0\u001b[39m)[:bucket_count],\n\u001b[0;32m    285\u001b[0m         dtype\u001b[39m=\u001b[39mtf\u001b[39m.\u001b[39mfloat64,\n\u001b[0;32m    286\u001b[0m     )\n\u001b[0;32m    287\u001b[0m     \u001b[39mreturn\u001b[39;00m tf\u001b[39m.\u001b[39mtranspose(a\u001b[39m=\u001b[39mtf\u001b[39m.\u001b[39mstack([edges, edges, bucket_counts]))\n\u001b[1;32m--> 289\u001b[0m \u001b[39mreturn\u001b[39;00m tf\u001b[39m.\u001b[39;49mcond(\n\u001b[0;32m    290\u001b[0m     has_single_value, when_single_value, when_multiple_values\n\u001b[0;32m    291\u001b[0m )\n",
      "File \u001b[1;32mc:\\Users\\skoprowi\\AppData\\Local\\Programs\\Python\\Python311\\Lib\\site-packages\\tensorflow\\python\\util\\traceback_utils.py:150\u001b[0m, in \u001b[0;36mfilter_traceback.<locals>.error_handler\u001b[1;34m(*args, **kwargs)\u001b[0m\n\u001b[0;32m    148\u001b[0m filtered_tb \u001b[39m=\u001b[39m \u001b[39mNone\u001b[39;00m\n\u001b[0;32m    149\u001b[0m \u001b[39mtry\u001b[39;00m:\n\u001b[1;32m--> 150\u001b[0m   \u001b[39mreturn\u001b[39;00m fn(\u001b[39m*\u001b[39;49margs, \u001b[39m*\u001b[39;49m\u001b[39m*\u001b[39;49mkwargs)\n\u001b[0;32m    151\u001b[0m \u001b[39mexcept\u001b[39;00m \u001b[39mException\u001b[39;00m \u001b[39mas\u001b[39;00m e:\n\u001b[0;32m    152\u001b[0m   filtered_tb \u001b[39m=\u001b[39m _process_traceback_frames(e\u001b[39m.\u001b[39m__traceback__)\n",
      "File \u001b[1;32mc:\\Users\\skoprowi\\AppData\\Local\\Programs\\Python\\Python311\\Lib\\site-packages\\tensorflow\\python\\util\\dispatch.py:1176\u001b[0m, in \u001b[0;36madd_dispatch_support.<locals>.decorator.<locals>.op_dispatch_handler\u001b[1;34m(*args, **kwargs)\u001b[0m\n\u001b[0;32m   1174\u001b[0m \u001b[39m# Fallback dispatch system (dispatch v1):\u001b[39;00m\n\u001b[0;32m   1175\u001b[0m \u001b[39mtry\u001b[39;00m:\n\u001b[1;32m-> 1176\u001b[0m   \u001b[39mreturn\u001b[39;00m dispatch_target(\u001b[39m*\u001b[39;49margs, \u001b[39m*\u001b[39;49m\u001b[39m*\u001b[39;49mkwargs)\n\u001b[0;32m   1177\u001b[0m \u001b[39mexcept\u001b[39;00m (\u001b[39mTypeError\u001b[39;00m, \u001b[39mValueError\u001b[39;00m):\n\u001b[0;32m   1178\u001b[0m   \u001b[39m# Note: convert_to_eager_tensor currently raises a ValueError, not a\u001b[39;00m\n\u001b[0;32m   1179\u001b[0m   \u001b[39m# TypeError, when given unexpected types.  So we need to catch both.\u001b[39;00m\n\u001b[0;32m   1180\u001b[0m   result \u001b[39m=\u001b[39m dispatch(op_dispatch_handler, args, kwargs)\n",
      "File \u001b[1;32mc:\\Users\\skoprowi\\AppData\\Local\\Programs\\Python\\Python311\\Lib\\site-packages\\tensorflow\\python\\ops\\control_flow_ops.py:1427\u001b[0m, in \u001b[0;36mcond_for_tf_v2\u001b[1;34m(pred, true_fn, false_fn, name)\u001b[0m\n\u001b[0;32m   1327\u001b[0m \u001b[39m@tf_export\u001b[39m(\u001b[39m\"\u001b[39m\u001b[39mcond\u001b[39m\u001b[39m\"\u001b[39m, v1\u001b[39m=\u001b[39m[])\n\u001b[0;32m   1328\u001b[0m \u001b[39m@dispatch\u001b[39m\u001b[39m.\u001b[39madd_dispatch_support\n\u001b[0;32m   1329\u001b[0m \u001b[39mdef\u001b[39;00m \u001b[39mcond_for_tf_v2\u001b[39m(pred, true_fn\u001b[39m=\u001b[39m\u001b[39mNone\u001b[39;00m, false_fn\u001b[39m=\u001b[39m\u001b[39mNone\u001b[39;00m, name\u001b[39m=\u001b[39m\u001b[39mNone\u001b[39;00m):\n\u001b[0;32m   1330\u001b[0m \u001b[39m  \u001b[39m\u001b[39m\"\"\"Return `true_fn()` if the predicate `pred` is true else `false_fn()`.\u001b[39;00m\n\u001b[0;32m   1331\u001b[0m \n\u001b[0;32m   1332\u001b[0m \u001b[39m  Note: This op is automatically used in a `tf.function` to convert Python\u001b[39;00m\n\u001b[1;32m   (...)\u001b[0m\n\u001b[0;32m   1425\u001b[0m \n\u001b[0;32m   1426\u001b[0m \u001b[39m  \"\"\"\u001b[39;00m\n\u001b[1;32m-> 1427\u001b[0m   \u001b[39mreturn\u001b[39;00m cond(pred, true_fn\u001b[39m=\u001b[39;49mtrue_fn, false_fn\u001b[39m=\u001b[39;49mfalse_fn, strict\u001b[39m=\u001b[39;49m\u001b[39mTrue\u001b[39;49;00m, name\u001b[39m=\u001b[39;49mname)\n",
      "File \u001b[1;32mc:\\Users\\skoprowi\\AppData\\Local\\Programs\\Python\\Python311\\Lib\\site-packages\\tensorflow\\python\\util\\traceback_utils.py:150\u001b[0m, in \u001b[0;36mfilter_traceback.<locals>.error_handler\u001b[1;34m(*args, **kwargs)\u001b[0m\n\u001b[0;32m    148\u001b[0m filtered_tb \u001b[39m=\u001b[39m \u001b[39mNone\u001b[39;00m\n\u001b[0;32m    149\u001b[0m \u001b[39mtry\u001b[39;00m:\n\u001b[1;32m--> 150\u001b[0m   \u001b[39mreturn\u001b[39;00m fn(\u001b[39m*\u001b[39;49margs, \u001b[39m*\u001b[39;49m\u001b[39m*\u001b[39;49mkwargs)\n\u001b[0;32m    151\u001b[0m \u001b[39mexcept\u001b[39;00m \u001b[39mException\u001b[39;00m \u001b[39mas\u001b[39;00m e:\n\u001b[0;32m    152\u001b[0m   filtered_tb \u001b[39m=\u001b[39m _process_traceback_frames(e\u001b[39m.\u001b[39m__traceback__)\n",
      "File \u001b[1;32mc:\\Users\\skoprowi\\AppData\\Local\\Programs\\Python\\Python311\\Lib\\site-packages\\tensorflow\\python\\util\\dispatch.py:1176\u001b[0m, in \u001b[0;36madd_dispatch_support.<locals>.decorator.<locals>.op_dispatch_handler\u001b[1;34m(*args, **kwargs)\u001b[0m\n\u001b[0;32m   1174\u001b[0m \u001b[39m# Fallback dispatch system (dispatch v1):\u001b[39;00m\n\u001b[0;32m   1175\u001b[0m \u001b[39mtry\u001b[39;00m:\n\u001b[1;32m-> 1176\u001b[0m   \u001b[39mreturn\u001b[39;00m dispatch_target(\u001b[39m*\u001b[39;49margs, \u001b[39m*\u001b[39;49m\u001b[39m*\u001b[39;49mkwargs)\n\u001b[0;32m   1177\u001b[0m \u001b[39mexcept\u001b[39;00m (\u001b[39mTypeError\u001b[39;00m, \u001b[39mValueError\u001b[39;00m):\n\u001b[0;32m   1178\u001b[0m   \u001b[39m# Note: convert_to_eager_tensor currently raises a ValueError, not a\u001b[39;00m\n\u001b[0;32m   1179\u001b[0m   \u001b[39m# TypeError, when given unexpected types.  So we need to catch both.\u001b[39;00m\n\u001b[0;32m   1180\u001b[0m   result \u001b[39m=\u001b[39m dispatch(op_dispatch_handler, args, kwargs)\n",
      "File \u001b[1;32mc:\\Users\\skoprowi\\AppData\\Local\\Programs\\Python\\Python311\\Lib\\site-packages\\tensorflow\\python\\util\\deprecation.py:576\u001b[0m, in \u001b[0;36mdeprecated_args.<locals>.deprecated_wrapper.<locals>.new_func\u001b[1;34m(*args, **kwargs)\u001b[0m\n\u001b[0;32m    568\u001b[0m         _PRINTED_WARNING[(func, arg_name)] \u001b[39m=\u001b[39m \u001b[39mTrue\u001b[39;00m\n\u001b[0;32m    569\u001b[0m       logging\u001b[39m.\u001b[39mwarning(\n\u001b[0;32m    570\u001b[0m           \u001b[39m'\u001b[39m\u001b[39mFrom \u001b[39m\u001b[39m%s\u001b[39;00m\u001b[39m: calling \u001b[39m\u001b[39m%s\u001b[39;00m\u001b[39m (from \u001b[39m\u001b[39m%s\u001b[39;00m\u001b[39m) with \u001b[39m\u001b[39m%s\u001b[39;00m\u001b[39m is deprecated and will \u001b[39m\u001b[39m'\u001b[39m\n\u001b[0;32m    571\u001b[0m           \u001b[39m'\u001b[39m\u001b[39mbe removed \u001b[39m\u001b[39m%s\u001b[39;00m\u001b[39m.\u001b[39m\u001b[39m\\n\u001b[39;00m\u001b[39mInstructions for updating:\u001b[39m\u001b[39m\\n\u001b[39;00m\u001b[39m%s\u001b[39;00m\u001b[39m'\u001b[39m,\n\u001b[1;32m   (...)\u001b[0m\n\u001b[0;32m    574\u001b[0m           \u001b[39m'\u001b[39m\u001b[39min a future version\u001b[39m\u001b[39m'\u001b[39m \u001b[39mif\u001b[39;00m date \u001b[39mis\u001b[39;00m \u001b[39mNone\u001b[39;00m \u001b[39melse\u001b[39;00m (\u001b[39m'\u001b[39m\u001b[39mafter \u001b[39m\u001b[39m%s\u001b[39;00m\u001b[39m'\u001b[39m \u001b[39m%\u001b[39m date),\n\u001b[0;32m    575\u001b[0m           instructions)\n\u001b[1;32m--> 576\u001b[0m \u001b[39mreturn\u001b[39;00m func(\u001b[39m*\u001b[39;49margs, \u001b[39m*\u001b[39;49m\u001b[39m*\u001b[39;49mkwargs)\n",
      "File \u001b[1;32mc:\\Users\\skoprowi\\AppData\\Local\\Programs\\Python\\Python311\\Lib\\site-packages\\tensorflow\\python\\ops\\control_flow_ops.py:1206\u001b[0m, in \u001b[0;36mcond\u001b[1;34m(pred, true_fn, false_fn, strict, name, fn1, fn2)\u001b[0m\n\u001b[0;32m   1203\u001b[0m   \u001b[39mraise\u001b[39;00m \u001b[39mTypeError\u001b[39;00m(\u001b[39m\"\u001b[39m\u001b[39m'\u001b[39m\u001b[39mfalse_fn\u001b[39m\u001b[39m'\u001b[39m\u001b[39m must be callable.\u001b[39m\u001b[39m\"\u001b[39m)\n\u001b[0;32m   1205\u001b[0m \u001b[39mif\u001b[39;00m context\u001b[39m.\u001b[39mexecuting_eagerly():\n\u001b[1;32m-> 1206\u001b[0m   \u001b[39mreturn\u001b[39;00m _eager_cond_implementation(pred, true_fn, false_fn, strict, name)\n\u001b[0;32m   1208\u001b[0m \u001b[39m# Always enable control flow v2 if building a function, regardless of toggle.\u001b[39;00m\n\u001b[0;32m   1209\u001b[0m \u001b[39mif\u001b[39;00m util\u001b[39m.\u001b[39mEnableControlFlowV2(ops\u001b[39m.\u001b[39mget_default_graph()):\n",
      "File \u001b[1;32mc:\\Users\\skoprowi\\AppData\\Local\\Programs\\Python\\Python311\\Lib\\site-packages\\tensorflow\\python\\ops\\control_flow_ops.py:1091\u001b[0m, in \u001b[0;36m_eager_cond_implementation\u001b[1;34m(pred, true_fn, false_fn, strict, name)\u001b[0m\n\u001b[0;32m   1087\u001b[0m       def_function\u001b[39m.\u001b[39mrun_functions_eagerly(functions_run_eagerly)\n\u001b[0;32m   1088\u001b[0m \u001b[39melse\u001b[39;00m:\n\u001b[0;32m   1089\u001b[0m   \u001b[39m# For conditions which are eager tensors with a constant value (most of\u001b[39;00m\n\u001b[0;32m   1090\u001b[0m   \u001b[39m# them), we only call the relevant branch function and execute it eagerly.\u001b[39;00m\n\u001b[1;32m-> 1091\u001b[0m   \u001b[39mwith\u001b[39;49;00m ops\u001b[39m.\u001b[39;49mname_scope(name, \u001b[39m\"\u001b[39;49m\u001b[39mcond\u001b[39;49m\u001b[39m\"\u001b[39;49m, [pred]):\n\u001b[0;32m   1092\u001b[0m     \u001b[39mif\u001b[39;49;00m pred_constant_value:\n\u001b[0;32m   1093\u001b[0m       result \u001b[39m=\u001b[39;49m true_fn()\n",
      "File \u001b[1;32mc:\\Users\\skoprowi\\AppData\\Local\\Programs\\Python\\Python311\\Lib\\site-packages\\tensorflow\\python\\framework\\ops.py:175\u001b[0m, in \u001b[0;36mNullContextmanager.__exit__\u001b[1;34m(self, type_arg, value_arg, traceback_arg)\u001b[0m\n\u001b[0;32m    172\u001b[0m \u001b[39mdef\u001b[39;00m \u001b[39m__enter__\u001b[39m(\u001b[39mself\u001b[39m):\n\u001b[0;32m    173\u001b[0m   \u001b[39mpass\u001b[39;00m\n\u001b[1;32m--> 175\u001b[0m \u001b[39mdef\u001b[39;00m \u001b[39m__exit__\u001b[39m(\u001b[39mself\u001b[39m, type_arg, value_arg, traceback_arg):\n\u001b[0;32m    176\u001b[0m   \u001b[39mreturn\u001b[39;00m \u001b[39mFalse\u001b[39;00m\n",
      "\u001b[1;31mKeyboardInterrupt\u001b[0m: "
     ]
    }
   ],
   "source": [
    "# classify race\n",
    "task4inputs = keras.Input(shape=(32,32,1))\n",
    "task4mainbranch = layers.Conv2D(filters=50, kernel_size=(7,7), activation='relu', strides=1, padding='same')(task4inputs)\n",
    "task4mainbranch = layers.MaxPooling2D(pool_size=2, strides=2, padding='valid')(task4mainbranch)\n",
    "task4mainbranch = layers.Conv2D(filters=100, kernel_size=(3,3), activation='relu', strides=1, padding='valid')(task4mainbranch)\n",
    "task4mainbranch = layers.Flatten()(task4mainbranch)\n",
    "task4gender = layers.Dense(100, activation='relu')(task4mainbranch)\n",
    "task4gender = layers.Dense(2, activation='softmax', name=\"gender\")(task4gender)\n",
    "task4race = layers.Dense(100, activation='relu')(task4mainbranch)\n",
    "task4race = layers.Dense(numRaces, activation='softmax', name=\"race\")(task4race)\n",
    "task4model = keras.Model(inputs=task4inputs, outputs=[task4gender,task4race], name=\"task4_model\")\n",
    "print(task4model.summary())\n",
    "\n",
    "opt = keras.optimizers.SGD(learning_rate=0.01)\n",
    "task4model.compile(\n",
    "    optimizer=opt,\n",
    "    loss='categorical_crossentropy',\n",
    "    metrics=['accuracy']\n",
    ")\n",
    "\n",
    "logdir = os.path.join(\"logs\", datetime.datetime.now().strftime(\"%Y%m%d-%H%M%S_Task4\"))\n",
    "tensorboard_callback = keras.callbacks.TensorBoard(logdir, histogram_freq=1)\n",
    "\n",
    "task4model.fit(training_images, {\"gender\":genders,\"race\":races}, epochs=50, batch_size=10, validation_data=(testing_images, {\"gender\":gendersVal,\"race\":racesVal}), callbacks=[tensorboard_callback])"
   ]
  },
  {
   "cell_type": "markdown",
   "id": "0a33ae6b",
   "metadata": {},
   "source": [
    "## Task 5: Variational Auto-Encoder\n",
    "### Use these specs (with some flexibility\n",
    "###### a. at least 2 convolutional layers and 2 deconvolution layers\n",
    "###### b. latent dimension should be at least 5\n",
    "###### c. loss should be either MSE or binary cross entropy"
   ]
  },
  {
   "cell_type": "code",
   "execution_count": 274,
   "id": "578261b3",
   "metadata": {},
   "outputs": [],
   "source": [
    "latent_dim = 8\n",
    "intermediate_dim = 512\n",
    "original_dim = 32 * 32\n",
    "batch_size = 120\n",
    "def sampling(args):\n",
    "    \"\"\"Reparameterization trick by sampling from an isotropic unit Gaussian.\n",
    "\n",
    "    # Arguments\n",
    "        args (tensor): mean and log of variance of Q(z|X)\n",
    "\n",
    "    # Returns\n",
    "        z (tensor): sampled latent vector\n",
    "    \"\"\"\n",
    "    #Extract mean and log of variance\n",
    "    z_mean, z_log_var = args\n",
    "    #get batch size and length of vector (size of latent space)\n",
    "    batch = K.shape(z_mean)[0]\n",
    "    dim = K.int_shape(z_mean)[1]\n",
    "    \n",
    "    # by default, random_normal has mean = 0 and std = 1.0\n",
    "    epsilon = K.random_normal(shape=(batch, dim))\n",
    "    #Return sampled number (need to raise var to correct power)\n",
    "    return z_mean + K.exp(z_log_var) * epsilon"
   ]
  },
  {
   "cell_type": "code",
   "execution_count": 289,
   "id": "959e2734",
   "metadata": {},
   "outputs": [
    {
     "name": "stdout",
     "output_type": "stream",
     "text": [
      "Model: \"encoder\"\n",
      "__________________________________________________________________________________________________\n",
      " Layer (type)                   Output Shape         Param #     Connected to                     \n",
      "==================================================================================================\n",
      " input_110 (InputLayer)         [(None, 32, 32, 1)]  0           []                               \n",
      "                                                                                                  \n",
      " conv2d_84 (Conv2D)             (None, 32, 32, 40)   680         ['input_110[0][0]']              \n",
      "                                                                                                  \n",
      " max_pooling2d_36 (MaxPooling2D  (None, 16, 16, 40)  0           ['conv2d_84[0][0]']              \n",
      " )                                                                                                \n",
      "                                                                                                  \n",
      " conv2d_85 (Conv2D)             (None, 14, 14, 20)   7220        ['max_pooling2d_36[0][0]']       \n",
      "                                                                                                  \n",
      " flatten_46 (Flatten)           (None, 3920)         0           ['conv2d_85[0][0]']              \n",
      "                                                                                                  \n",
      " dense_194 (Dense)              (None, 512)          2007552     ['flatten_46[0][0]']             \n",
      "                                                                                                  \n",
      " encoder_mean (Dense)           (None, 8)            4104        ['dense_194[0][0]']              \n",
      "                                                                                                  \n",
      " encoder_log_var (Dense)        (None, 8)            4104        ['dense_194[0][0]']              \n",
      "                                                                                                  \n",
      " encoder_output (Lambda)        (None, 8)            0           ['encoder_mean[0][0]',           \n",
      "                                                                  'encoder_log_var[0][0]']        \n",
      "                                                                                                  \n",
      "==================================================================================================\n",
      "Total params: 2,023,660\n",
      "Trainable params: 2,023,660\n",
      "Non-trainable params: 0\n",
      "__________________________________________________________________________________________________\n"
     ]
    }
   ],
   "source": [
    "encoder_inputs = keras.Input(shape=(32,32,1))\n",
    "first_filter_count = 40\n",
    "encoder_main = layers.Conv2D(filters=first_filter_count, kernel_size=(4,4), activation='relu', strides=1, padding='same')(encoder_inputs)\n",
    "encoder_main = layers.MaxPooling2D(pool_size=2, strides=2, padding='valid')(encoder_main)\n",
    "last_filter_count = 20\n",
    "encoder_main = layers.Conv2D(filters=last_filter_count, kernel_size=(3,3), activation='relu', strides=1, padding='valid')(encoder_main)\n",
    "encoder_main = layers.Flatten()(encoder_main)\n",
    "encoder_main = layers.Dense(intermediate_dim, activation='relu')(encoder_main)\n",
    "\n",
    "encoder_mean = layers.Dense(latent_dim, name=\"encoder_mean\")(encoder_main)\n",
    "encoder_log_var = layers.Dense(latent_dim, name=\"encoder_log_var\")(encoder_main)\n",
    "encoder_sampling = keras.layers.Lambda(sampling, name=\"encoder_output\")([encoder_mean, encoder_log_var])\n",
    "\n",
    "encoder = keras.Model(encoder_inputs, [encoder_mean, encoder_log_var, encoder_sampling], name=\"encoder\")\n",
    "encoder.summary()\n",
    "opt = keras.optimizers.SGD(learning_rate=0.01)\n"
   ]
  },
  {
   "cell_type": "code",
   "execution_count": 290,
   "id": "6ce43480",
   "metadata": {},
   "outputs": [
    {
     "name": "stdout",
     "output_type": "stream",
     "text": [
      "Model: \"decoder\"\n",
      "_________________________________________________________________\n",
      " Layer (type)                Output Shape              Param #   \n",
      "=================================================================\n",
      " input_111 (InputLayer)      [(None, 8)]               0         \n",
      "                                                                 \n",
      " dense_195 (Dense)           (None, 512)               4608      \n",
      "                                                                 \n",
      " dense_196 (Dense)           (None, 3920)              2010960   \n",
      "                                                                 \n",
      " reshape_62 (Reshape)        (None, 14, 14, 20)        0         \n",
      "                                                                 \n",
      " conv2d_transpose_176 (Conv2  (None, 30, 30, 20)       6420      \n",
      " DTranspose)                                                     \n",
      "                                                                 \n",
      " conv2d_transpose_177 (Conv2  (None, 30, 30, 40)       7240      \n",
      " DTranspose)                                                     \n",
      "                                                                 \n",
      " conv2d_transpose_178 (Conv2  (None, 32, 32, 1)        361       \n",
      " DTranspose)                                                     \n",
      "                                                                 \n",
      "=================================================================\n",
      "Total params: 2,029,589\n",
      "Trainable params: 2,029,589\n",
      "Non-trainable params: 0\n",
      "_________________________________________________________________\n"
     ]
    }
   ],
   "source": [
    "latent_inputs = keras.Input(shape=(latent_dim,))\n",
    "decoder_main = layers.Dense(intermediate_dim, activation='relu')(latent_inputs)\n",
    "decoder_main = layers.Dense(14*14*last_filter_count, activation='sigmoid')(decoder_main)\n",
    "decoder_main = layers.Reshape((14,14,last_filter_count))(decoder_main)\n",
    "decoder_main = layers.Conv2DTranspose(filters=last_filter_count, kernel_size=(4,4), activation=\"relu\", strides=2, padding=\"valid\")(decoder_main)\n",
    "decoder_main = layers.Conv2DTranspose(filters=first_filter_count, kernel_size=(3,3), activation=\"relu\", strides=1, padding=\"same\")(decoder_main)\n",
    "decoder_main = layers.Conv2DTranspose(filters=1, kernel_size=(3,3), activation=\"relu\", strides=1, padding=\"valid\")(decoder_main)\n",
    "# instantiate decoder model\n",
    "decoder = keras.Model(latent_inputs, decoder_main, name='decoder')\n",
    "decoder.summary()\n"
   ]
  },
  {
   "cell_type": "code",
   "execution_count": 291,
   "id": "148c3e1d",
   "metadata": {},
   "outputs": [
    {
     "name": "stdout",
     "output_type": "stream",
     "text": [
      "KerasTensor(type_spec=TensorSpec(shape=(), dtype=tf.float32, name=None), name='tf.math.multiply_92/Mul:0', description=\"created by layer 'tf.math.multiply_92'\")\n",
      "KerasTensor(type_spec=TensorSpec(shape=(None,), dtype=tf.float32, name=None), name='tf.math.multiply_93/Mul:0', description=\"created by layer 'tf.math.multiply_93'\")\n",
      "KerasTensor(type_spec=TensorSpec(shape=(), dtype=tf.float32, name=None), name='tf.math.reduce_mean_102/Mean:0', description=\"created by layer 'tf.math.reduce_mean_102'\")\n",
      "Epoch 1/100\n",
      "2/2 [==============================] - 2s 187ms/step - loss: 184.4684\n",
      "Epoch 2/100\n",
      "2/2 [==============================] - 0s 164ms/step - loss: 120.6753\n",
      "Epoch 3/100\n",
      "2/2 [==============================] - 0s 177ms/step - loss: 87.4886\n",
      "Epoch 4/100\n",
      "2/2 [==============================] - 0s 172ms/step - loss: 80.9333\n",
      "Epoch 5/100\n",
      "2/2 [==============================] - 0s 177ms/step - loss: 80.4948\n",
      "Epoch 6/100\n",
      "2/2 [==============================] - 0s 168ms/step - loss: 77.8200\n",
      "Epoch 7/100\n",
      "2/2 [==============================] - 0s 179ms/step - loss: 74.0975\n",
      "Epoch 8/100\n",
      "2/2 [==============================] - 0s 195ms/step - loss: 70.7115\n",
      "Epoch 9/100\n",
      "2/2 [==============================] - 0s 191ms/step - loss: 68.1316\n",
      "Epoch 10/100\n",
      "2/2 [==============================] - 0s 170ms/step - loss: 66.1790\n",
      "Epoch 11/100\n",
      "2/2 [==============================] - 0s 192ms/step - loss: 64.4263\n",
      "Epoch 12/100\n",
      "2/2 [==============================] - 0s 172ms/step - loss: 62.9181\n",
      "Epoch 13/100\n",
      "2/2 [==============================] - 0s 175ms/step - loss: 62.3354\n",
      "Epoch 14/100\n",
      "2/2 [==============================] - 0s 166ms/step - loss: 59.7777\n",
      "Epoch 15/100\n",
      "2/2 [==============================] - 0s 188ms/step - loss: 59.4267\n",
      "Epoch 16/100\n",
      "2/2 [==============================] - 0s 165ms/step - loss: 58.6881\n",
      "Epoch 17/100\n",
      "2/2 [==============================] - 0s 156ms/step - loss: 56.9256\n",
      "Epoch 18/100\n",
      "2/2 [==============================] - 0s 165ms/step - loss: 56.4758\n",
      "Epoch 19/100\n",
      "2/2 [==============================] - 0s 169ms/step - loss: 56.0831\n",
      "Epoch 20/100\n",
      "2/2 [==============================] - 0s 190ms/step - loss: 55.6465\n",
      "Epoch 21/100\n",
      "2/2 [==============================] - 0s 199ms/step - loss: 55.7972\n",
      "Epoch 22/100\n",
      "2/2 [==============================] - 0s 197ms/step - loss: 54.0419\n",
      "Epoch 23/100\n",
      "2/2 [==============================] - 0s 193ms/step - loss: 54.2004\n",
      "Epoch 24/100\n",
      "2/2 [==============================] - 0s 189ms/step - loss: 53.2937\n",
      "Epoch 25/100\n",
      "2/2 [==============================] - 0s 165ms/step - loss: 53.4210\n",
      "Epoch 26/100\n",
      "2/2 [==============================] - 0s 182ms/step - loss: 53.2402\n",
      "Epoch 27/100\n",
      "2/2 [==============================] - 0s 196ms/step - loss: 53.1641\n",
      "Epoch 28/100\n",
      "2/2 [==============================] - 0s 204ms/step - loss: 52.1747\n",
      "Epoch 29/100\n",
      "2/2 [==============================] - 0s 165ms/step - loss: 52.6546\n",
      "Epoch 30/100\n",
      "2/2 [==============================] - 0s 153ms/step - loss: 52.2029\n",
      "Epoch 31/100\n",
      "2/2 [==============================] - 0s 155ms/step - loss: 51.8990\n",
      "Epoch 32/100\n",
      "2/2 [==============================] - 0s 166ms/step - loss: 51.5529\n",
      "Epoch 33/100\n",
      "2/2 [==============================] - 0s 155ms/step - loss: 52.2142\n",
      "Epoch 34/100\n",
      "2/2 [==============================] - 0s 158ms/step - loss: 51.8807\n",
      "Epoch 35/100\n",
      "2/2 [==============================] - 0s 162ms/step - loss: 51.9790\n",
      "Epoch 36/100\n",
      "2/2 [==============================] - 0s 161ms/step - loss: 51.1276\n",
      "Epoch 37/100\n",
      "2/2 [==============================] - 0s 158ms/step - loss: 51.6015\n",
      "Epoch 38/100\n",
      "2/2 [==============================] - 0s 158ms/step - loss: 51.3286\n",
      "Epoch 39/100\n",
      "2/2 [==============================] - 0s 163ms/step - loss: 51.4026\n",
      "Epoch 40/100\n",
      "2/2 [==============================] - 0s 159ms/step - loss: 50.5952\n",
      "Epoch 41/100\n",
      "2/2 [==============================] - 0s 177ms/step - loss: 49.6537\n",
      "Epoch 42/100\n",
      "2/2 [==============================] - 0s 170ms/step - loss: 49.5795\n",
      "Epoch 43/100\n",
      "2/2 [==============================] - 0s 178ms/step - loss: 48.9238\n",
      "Epoch 44/100\n",
      "2/2 [==============================] - 0s 168ms/step - loss: 48.3147\n",
      "Epoch 45/100\n",
      "2/2 [==============================] - 0s 172ms/step - loss: 47.5724\n",
      "Epoch 46/100\n",
      "2/2 [==============================] - 0s 174ms/step - loss: 46.6351\n",
      "Epoch 47/100\n",
      "2/2 [==============================] - 0s 179ms/step - loss: 47.0036\n",
      "Epoch 48/100\n",
      "2/2 [==============================] - 0s 184ms/step - loss: 45.9633\n",
      "Epoch 49/100\n",
      "2/2 [==============================] - 0s 178ms/step - loss: 44.3843\n",
      "Epoch 50/100\n",
      "2/2 [==============================] - 0s 174ms/step - loss: 43.4525\n",
      "Epoch 51/100\n",
      "2/2 [==============================] - 0s 177ms/step - loss: 42.6419\n",
      "Epoch 52/100\n",
      "2/2 [==============================] - 0s 187ms/step - loss: 41.6140\n",
      "Epoch 53/100\n",
      "2/2 [==============================] - 0s 169ms/step - loss: 41.3551\n",
      "Epoch 54/100\n",
      "2/2 [==============================] - 0s 172ms/step - loss: 40.7537\n",
      "Epoch 55/100\n",
      "2/2 [==============================] - 0s 169ms/step - loss: 39.5990\n",
      "Epoch 56/100\n",
      "2/2 [==============================] - 0s 167ms/step - loss: 38.5688\n",
      "Epoch 57/100\n",
      "2/2 [==============================] - 0s 171ms/step - loss: 38.4850\n",
      "Epoch 58/100\n",
      "2/2 [==============================] - 0s 186ms/step - loss: 37.5227\n",
      "Epoch 59/100\n",
      "2/2 [==============================] - 0s 185ms/step - loss: 37.2731\n",
      "Epoch 60/100\n",
      "2/2 [==============================] - 0s 194ms/step - loss: 36.3252\n",
      "Epoch 61/100\n",
      "2/2 [==============================] - 0s 166ms/step - loss: 35.3037\n",
      "Epoch 62/100\n",
      "2/2 [==============================] - 0s 176ms/step - loss: 35.3182\n",
      "Epoch 63/100\n",
      "2/2 [==============================] - 0s 182ms/step - loss: 34.2226\n",
      "Epoch 64/100\n",
      "2/2 [==============================] - 0s 192ms/step - loss: 33.9676\n",
      "Epoch 65/100\n",
      "2/2 [==============================] - 0s 181ms/step - loss: 33.4729\n",
      "Epoch 66/100\n",
      "2/2 [==============================] - 0s 174ms/step - loss: 32.8495\n",
      "Epoch 67/100\n",
      "2/2 [==============================] - 0s 186ms/step - loss: 32.2604\n",
      "Epoch 68/100\n",
      "2/2 [==============================] - 0s 168ms/step - loss: 32.1459\n",
      "Epoch 69/100\n",
      "2/2 [==============================] - 0s 175ms/step - loss: 31.9891\n",
      "Epoch 70/100\n",
      "2/2 [==============================] - 0s 183ms/step - loss: 31.2627\n",
      "Epoch 71/100\n",
      "2/2 [==============================] - 0s 200ms/step - loss: 31.1493\n",
      "Epoch 72/100\n",
      "2/2 [==============================] - 0s 173ms/step - loss: 31.1857\n",
      "Epoch 73/100\n",
      "2/2 [==============================] - 0s 168ms/step - loss: 30.6159\n",
      "Epoch 74/100\n",
      "2/2 [==============================] - 0s 183ms/step - loss: 30.6681\n",
      "Epoch 75/100\n",
      "2/2 [==============================] - 0s 186ms/step - loss: 30.2194\n",
      "Epoch 76/100\n",
      "2/2 [==============================] - 0s 175ms/step - loss: 30.4654\n",
      "Epoch 77/100\n",
      "2/2 [==============================] - 0s 181ms/step - loss: 30.2536\n",
      "Epoch 78/100\n",
      "2/2 [==============================] - 0s 178ms/step - loss: 29.8562\n",
      "Epoch 79/100\n",
      "2/2 [==============================] - 0s 171ms/step - loss: 30.0791\n",
      "Epoch 80/100\n",
      "2/2 [==============================] - 0s 185ms/step - loss: 30.0038\n",
      "Epoch 81/100\n",
      "2/2 [==============================] - 0s 172ms/step - loss: 29.8930\n",
      "Epoch 82/100\n",
      "2/2 [==============================] - 0s 185ms/step - loss: 29.8311\n",
      "Epoch 83/100\n",
      "2/2 [==============================] - 0s 193ms/step - loss: 29.6060\n",
      "Epoch 84/100\n",
      "2/2 [==============================] - 0s 186ms/step - loss: 29.5695\n",
      "Epoch 85/100\n",
      "2/2 [==============================] - 0s 175ms/step - loss: 29.1930\n",
      "Epoch 86/100\n",
      "2/2 [==============================] - 0s 180ms/step - loss: 29.1925\n",
      "Epoch 87/100\n",
      "2/2 [==============================] - 0s 169ms/step - loss: 29.1737\n",
      "Epoch 88/100\n",
      "2/2 [==============================] - 0s 169ms/step - loss: 28.8982\n",
      "Epoch 89/100\n",
      "2/2 [==============================] - 0s 176ms/step - loss: 28.9872\n",
      "Epoch 90/100\n",
      "2/2 [==============================] - 0s 177ms/step - loss: 28.6470\n",
      "Epoch 91/100\n",
      "2/2 [==============================] - 0s 180ms/step - loss: 28.4849\n",
      "Epoch 92/100\n",
      "2/2 [==============================] - 0s 179ms/step - loss: 28.3070\n",
      "Epoch 93/100\n",
      "2/2 [==============================] - 0s 179ms/step - loss: 28.2195\n",
      "Epoch 94/100\n",
      "2/2 [==============================] - 0s 181ms/step - loss: 27.8898\n",
      "Epoch 95/100\n",
      "2/2 [==============================] - 0s 196ms/step - loss: 27.6752\n",
      "Epoch 96/100\n",
      "2/2 [==============================] - 0s 173ms/step - loss: 27.3374\n",
      "Epoch 97/100\n",
      "2/2 [==============================] - 0s 179ms/step - loss: 27.4324\n",
      "Epoch 98/100\n",
      "2/2 [==============================] - 0s 174ms/step - loss: 26.6582\n",
      "Epoch 99/100\n",
      "2/2 [==============================] - 0s 172ms/step - loss: 26.3495\n",
      "Epoch 100/100\n",
      "2/2 [==============================] - 0s 177ms/step - loss: 25.9039\n"
     ]
    },
    {
     "data": {
      "text/plain": [
       "<keras.callbacks.History at 0x20dced28c90>"
      ]
     },
     "execution_count": 291,
     "metadata": {},
     "output_type": "execute_result"
    }
   ],
   "source": [
    "decoder_outputs = decoder(encoder(encoder_inputs)[2])\n",
    "\n",
    "vae = keras.Model(encoder_inputs, decoder_outputs, name='vae')\n",
    "#reconstruction_loss = mse(encoder_inputs, decoder_outputs)\n",
    "reconstruction_loss = tf.reduce_mean(\n",
    "    tf.reduce_sum(\n",
    "        (encoder_inputs - decoder_outputs)**2,\n",
    "        axis=(1,2)\n",
    "    )\n",
    ")\n",
    "reconstruction_loss *=1\n",
    "print(reconstruction_loss)\n",
    "kl_loss = K.exp(encoder_log_var) + K.square(encoder_mean) - encoder_log_var - 1\n",
    "kl_loss = K.sum(kl_loss, axis=-1)\n",
    "kl_loss *= 0.0001\n",
    "vae_loss = K.mean(reconstruction_loss + kl_loss)\n",
    "print(kl_loss)\n",
    "print(vae_loss)\n",
    "\n",
    "vae.add_loss(vae_loss)\n",
    "vae.compile(optimizer='adam')\n",
    "\n",
    "logdir = os.path.join(\"logs\", datetime.datetime.now().strftime(\"%Y%m%d-%H%M%S_Task5\"))\n",
    "tensorboard_callback = keras.callbacks.TensorBoard(logdir, histogram_freq=1)\n",
    "\n",
    "vae.fit(training_images, epochs=100, batch_size=batch_size)"
   ]
  },
  {
   "cell_type": "code",
   "execution_count": 295,
   "id": "982356ef",
   "metadata": {},
   "outputs": [
    {
     "data": {
      "image/png": "[encoded data removed]",
      "text/plain": [
       "<PIL.Image.Image image mode=L size=100x100>"
      ]
     },
     "metadata": {},
     "output_type": "display_data"
    },
    {
     "data": {
      "image/png": "[encoded data removed]",
      "text/plain": [
       "<PIL.Image.Image image mode=L size=100x100>"
      ]
     },
     "metadata": {},
     "output_type": "display_data"
    },
    {
     "data": {
      "image/png": "[encoded data removed]",
      "text/plain": [
       "<PIL.Image.Image image mode=L size=100x100>"
      ]
     },
     "metadata": {},
     "output_type": "display_data"
    },
    {
     "data": {
      "image/png": "[encoded data removed]",
      "text/plain": [
       "<PIL.Image.Image image mode=L size=100x100>"
      ]
     },
     "metadata": {},
     "output_type": "display_data"
    },
    {
     "data": {
      "image/png": "[encoded data removed]",
      "text/plain": [
       "<PIL.Image.Image image mode=L size=100x100>"
      ]
     },
     "metadata": {},
     "output_type": "display_data"
    },
    {
     "data": {
      "image/png": "[encoded data removed]",
      "text/plain": [
       "<PIL.Image.Image image mode=L size=100x100>"
      ]
     },
     "metadata": {},
     "output_type": "display_data"
    },
    {
     "data": {
      "image/png": "[encoded data removed]",
      "text/plain": [
       "<PIL.Image.Image image mode=L size=100x100>"
      ]
     },
     "metadata": {},
     "output_type": "display_data"
    },
    {
     "data": {
      "image/png": "[encoded data removed]",
      "text/plain": [
       "<PIL.Image.Image image mode=L size=100x100>"
      ]
     },
     "metadata": {},
     "output_type": "display_data"
    },
    {
     "data": {
      "image/png": "[encoded data removed]",
      "text/plain": [
       "<PIL.Image.Image image mode=L size=100x100>"
      ]
     },
     "metadata": {},
     "output_type": "display_data"
    },
    {
     "data": {
      "image/png": "[encoded data removed]",
      "text/plain": [
       "<PIL.Image.Image image mode=L size=100x100>"
      ]
     },
     "metadata": {},
     "output_type": "display_data"
    }
   ],
   "source": [
    "test_output_images = vae(testing_images[15:25])\n",
    "test_output_images= [np.array(x*255, dtype=np.uint8)[:,:,0] for x in test_output_images]\n",
    "\n",
    "for x in test_output_images:\n",
    "   display(Image.fromarray(x,mode=\"L\").resize((100,100)))"
   ]
  },
  {
   "cell_type": "code",
   "execution_count": 297,
   "metadata": {},
   "outputs": [
    {
     "data": {
      "image/png": "[encoded data removed]",
      "text/plain": [
       "<PIL.Image.Image image mode=L size=100x100>"
      ]
     },
     "metadata": {},
     "output_type": "display_data"
    },
    {
     "data": {
      "image/png": "[encoded data removed]",
      "text/plain": [
       "<PIL.Image.Image image mode=L size=100x100>"
      ]
     },
     "metadata": {},
     "output_type": "display_data"
    },
    {
     "data": {
      "image/png": "[encoded data removed]",
      "text/plain": [
       "<PIL.Image.Image image mode=L size=100x100>"
      ]
     },
     "metadata": {},
     "output_type": "display_data"
    },
    {
     "data": {
      "image/png": "[encoded data removed]",
      "text/plain": [
       "<PIL.Image.Image image mode=L size=100x100>"
      ]
     },
     "metadata": {},
     "output_type": "display_data"
    },
    {
     "data": {
      "image/png": "[encoded data removed]",
      "text/plain": [
       "<PIL.Image.Image image mode=L size=100x100>"
      ]
     },
     "metadata": {},
     "output_type": "display_data"
    },
    {
     "data": {
      "image/png": "[encoded data removed]",
      "text/plain": [
       "<PIL.Image.Image image mode=L size=100x100>"
      ]
     },
     "metadata": {},
     "output_type": "display_data"
    },
    {
     "data": {
      "image/png": "[encoded data removed]",
      "text/plain": [
       "<PIL.Image.Image image mode=L size=100x100>"
      ]
     },
     "metadata": {},
     "output_type": "display_data"
    },
    {
     "data": {
      "image/png": "[encoded data removed]",
      "text/plain": [
       "<PIL.Image.Image image mode=L size=100x100>"
      ]
     },
     "metadata": {},
     "output_type": "display_data"
    },
    {
     "data": {
      "image/png": "[encoded data removed]",
      "text/plain": [
       "<PIL.Image.Image image mode=L size=100x100>"
      ]
     },
     "metadata": {},
     "output_type": "display_data"
    },
    {
     "data": {
      "image/png": "[encoded data removed]",
      "text/plain": [
       "<PIL.Image.Image image mode=L size=100x100>"
      ]
     },
     "metadata": {},
     "output_type": "display_data"
    }
   ],
   "source": [
    "test_images = decoder(K.constant([np.random.rand(latent_dim) for x in range(10)]))\n",
    "test_images= [np.array(x*255, dtype=np.uint8)[:,:,0] for x in test_images]\n",
    "\n",
    "for x in test_images:\n",
    "   display(Image.fromarray(x,mode=\"L\").resize((100,100)))\n"
   ]
  },
  {
   "cell_type": "code",
   "execution_count": null,
   "id": "f29d9ea1",
   "metadata": {},
   "outputs": [],
   "source": []
  }
 ],
 "metadata": {
  "kernelspec": {
   "display_name": "Python 3",
   "language": "python",
   "name": "python3"
  },
  "language_info": {
   "codemirror_mode": {
    "name": "ipython",
    "version": 3
   },
   "file_extension": ".py",
   "mimetype": "text/x-python",
   "name": "python",
   "nbconvert_exporter": "python",
   "pygments_lexer": "ipython3",
   "version": "3.11.1"
  },
  "vscode": {
   "interpreter": {
    "hash": "9fcc362b7ee148c10e1b547e51b70908ae9e82c9c52bbec387c3b7df7e41dbbc"
   }
  }
 },
 "nbformat": 4,
 "nbformat_minor": 5
}
